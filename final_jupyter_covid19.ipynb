{
 "cells": [
  {
   "cell_type": "markdown",
   "metadata": {},
   "source": [
    "<center>\n",
    "<img src=\"https://cf-courses-data.s3.us.cloud-object-storage.appdomain.cloud/IBMDeveloperSkillsNetwork-RP0101EN-Coursera/v2/M5_Final/images/SN_web_lightmode.png\" width=\"300\">\n",
    "</center>\n"
   ]
  },
  {
   "cell_type": "markdown",
   "metadata": {},
   "source": [
    "<h1>Analysis of Global COVID-19 Pandemic Data</h1>\n",
    "\n",
    "Estimated time needed: **90** minutes\n",
    "\n"
   ]
  },
  {
   "cell_type": "markdown",
   "metadata": {},
   "source": [
    "## Overview:\n",
    "\n",
    "There are 10 tasks in this final project. All tasks will be graded by your peers who are also completing this assignment within the same session.\n",
    "\n",
    "You need to submit the following the screenshot for the code and output for each task for review.\n",
    "\n",
    "If you need to refresh your memories about specific coding details, you may refer to previous hands-on labs for code examples.\n"
   ]
  },
  {
   "cell_type": "code",
   "execution_count": 1,
   "metadata": {
    "vscode": {
     "languageId": "r"
    }
   },
   "outputs": [],
   "source": [
    "# This lab requires 'httr' and 'rvest'packages, which are already pre-loaded into this lab environment.\n",
    "# However, if you are working on your local RStudio, please uncomment the below codes and install the packages.\n",
    "\n",
    "#install.packages(\"httr\")\n",
    "#install.packages(\"rvest\")"
   ]
  },
  {
   "cell_type": "code",
   "execution_count": 2,
   "metadata": {
    "vscode": {
     "languageId": "r"
    }
   },
   "outputs": [],
   "source": [
    "library(httr)\n",
    "library(rvest)"
   ]
  },
  {
   "cell_type": "markdown",
   "metadata": {},
   "source": [
    "Note: if you can import above libraries, please use install.packages() to install them first.\n"
   ]
  },
  {
   "cell_type": "markdown",
   "metadata": {},
   "source": [
    "## TASK 1: Get a `COVID-19 pandemic` Wiki page using HTTP request\n"
   ]
  },
  {
   "cell_type": "markdown",
   "metadata": {},
   "source": [
    "First, let's write a function to use HTTP request to get a public COVID-19 Wiki page.\n",
    "\n",
    "Before you write the function, you can open this public page from this \n",
    "\n",
    "URL https://en.wikipedia.org/w/index.php?title=Template:COVID-19_testing_by_country using a web browser.\n",
    "\n",
    "The goal of task 1 is to get the html page using HTTP request (`httr` library)\n"
   ]
  },
  {
   "cell_type": "code",
   "execution_count": 3,
   "metadata": {
    "vscode": {
     "languageId": "r"
    }
   },
   "outputs": [],
   "source": [
    "\n",
    "get_wiki_covid19_page <- function() {\n",
    "    \n",
    "  # Our target COVID-19 wiki page URL is: https://en.wikipedia.org/w/index.php?title=Template:COVID-19_testing_by_country  \n",
    "  # Which has two parts: \n",
    "    # 1) base URL `https://en.wikipedia.org/w/index.php  \n",
    "    # 2) URL parameter: `title=Template:COVID-19_testing_by_country`, seperated by question mark ?\n",
    "    \n",
    "  # Wiki page base\n",
    "  wiki_base_url <- \"https://en.wikipedia.org/w/index.php\"\n",
    "  # You will need to create a List which has an element called `title` to specify which page you want to get from Wiki\n",
    "  # in our case, it will be `Template:COVID-19_testing_by_country`\n",
    "  query_params <- list(title = \"Template:COVID-19_testing_by_country\")\n",
    "  # - Use the `GET` function in httr library with a `url` argument and a `query` arugment to get a HTTP response\n",
    "  response <- GET(wiki_base_url, query = query_params)\n",
    "  # Use the `return` function to return the response\n",
    "  return(response)\n",
    "}\n",
    "\n",
    "\n"
   ]
  },
  {
   "cell_type": "markdown",
   "metadata": {},
   "source": [
    "Call the `get_wiki_covid19_page` function to get a http response with the target html page\n"
   ]
  },
  {
   "cell_type": "code",
   "execution_count": 4,
   "metadata": {
    "vscode": {
     "languageId": "r"
    }
   },
   "outputs": [
    {
     "name": "stdout",
     "output_type": "stream",
     "text": [
      "Response [https://en.wikipedia.org/w/index.php?title=Template%3ACOVID-19_testing_by_country]\n",
      "  Date: 2023-12-26 18:37\n",
      "  Status: 200\n",
      "  Content-Type: text/html; charset=UTF-8\n",
      "  Size: 448 kB\n",
      "<!DOCTYPE html>\n",
      "<html class=\"client-nojs vector-feature-language-in-header-enabled vector-fea...\n",
      "<head>\n",
      "<meta charset=\"UTF-8\">\n",
      "<title>Template:COVID-19 testing by country - Wikipedia</title>\n",
      "<script>(function(){var className=\"client-js vector-feature-language-in-heade...\n",
      "\"wgDefaultDateFormat\":\"dmy\",\"wgMonthNames\":[\"\",\"January\",\"February\",\"March\",\"...\n",
      "\"CS1 Russian-language sources (ru)\",\"CS1 Bosnian-language sources (bs)\",\"CS1 ...\n",
      "\"CS1 Malagasy-language sources (mg)\",\"CS1 Malay-language sources (ms)\",\"CS1 R...\n",
      "\"wgIsProbablyEditable\":false,\"wgRelevantPageIsProbablyEditable\":false,\"wgRest...\n",
      "...\n"
     ]
    }
   ],
   "source": [
    "# Call the get_wiki_covid19_page function and print the response\n",
    "response <- get_wiki_covid19_page()\n",
    "print(response)"
   ]
  },
  {
   "cell_type": "markdown",
   "metadata": {},
   "source": [
    "## TASK 2: Extract COVID-19 testing data table from the wiki HTML page\n"
   ]
  },
  {
   "cell_type": "markdown",
   "metadata": {},
   "source": [
    "On the COVID-19 testing wiki page, you should see a data table `<table>` node contains COVID-19 testing data by country on the page:\n",
    "\n",
    "<a href=\"https://cognitiveclass.ai/\">\n",
    "    <img src=\"https://cf-courses-data.s3.us.cloud-object-storage.appdomain.cloud/IBMDeveloperSkillsNetwork-RP0101EN-Coursera/v2/M5_Final/images/covid-19-by-country.png\" width=\"400\" align=\"center\">\n",
    "</a>\n",
    "\n",
    "Note the numbers you actually see on your page may be different from above because it is still an on-going pandemic when creating this notebook.\n",
    "\n",
    "The goal of task 2 is to extract above data table and convert it into a data frame\n"
   ]
  },
  {
   "cell_type": "markdown",
   "metadata": {},
   "source": [
    "Now use the `read_html` function in rvest library to get the root html node from response\n"
   ]
  },
  {
   "cell_type": "code",
   "execution_count": 5,
   "metadata": {
    "vscode": {
     "languageId": "r"
    }
   },
   "outputs": [
    {
     "data": {
      "text/plain": [
       "{html_document}\n",
       "<html class=\"client-nojs vector-feature-language-in-header-enabled vector-feature-language-in-main-page-header-disabled vector-feature-sticky-header-disabled vector-feature-page-tools-pinned-disabled vector-feature-toc-pinned-clientpref-1 vector-feature-main-menu-pinned-disabled vector-feature-limited-width-clientpref-1 vector-feature-limited-width-content-enabled vector-feature-zebra-design-enabled vector-feature-custom-font-size-clientpref-0 vector-feature-client-preferences-disabled vector-feature-client-prefs-pinned-disabled vector-toc-available\" lang=\"en\" dir=\"ltr\">\n",
       "[1] <head>\\n<meta http-equiv=\"Content-Type\" content=\"text/html; charset=UTF-8 ...\n",
       "[2] <body class=\"skin-vector skin-vector-search-vue mediawiki ltr sitedir-ltr ..."
      ]
     },
     "metadata": {},
     "output_type": "display_data"
    }
   ],
   "source": [
    "# Get the root html node from the http response in task 1 \n",
    "root_node <- read_html(response)\n",
    "root_node"
   ]
  },
  {
   "cell_type": "markdown",
   "metadata": {},
   "source": [
    "Get the tables in the HTML root node using `html_nodes` function.\n"
   ]
  },
  {
   "cell_type": "code",
   "execution_count": 6,
   "metadata": {
    "vscode": {
     "languageId": "r"
    }
   },
   "outputs": [
    {
     "data": {
      "text/plain": [
       "{xml_nodeset (4)}\n",
       "[1] <table class=\"box-Update plainlinks ombox ombox-content ambox-Update\" rol ...\n",
       "[2] <table class=\"wikitable plainrowheaders sortable collapsible autocollapse ...\n",
       "[3] <table class=\"plainlinks ombox mbox-small ombox-notice\" role=\"presentatio ...\n",
       "[4] <table class=\"wikitable mw-templatedata-doc-params\">\\n<caption><p class=\" ..."
      ]
     },
     "metadata": {},
     "output_type": "display_data"
    }
   ],
   "source": [
    "# Get the table node from the root html node\n",
    "table_node <- html_elements(root_node, \"table\")\n",
    "table_node"
   ]
  },
  {
   "cell_type": "markdown",
   "metadata": {},
   "source": [
    "Read the specific table from the multiple tables in the `table_node` using the `html_table` function and convert it into dataframe using `as.data.frame`\n",
    "\n",
    "_Hint:- Please read the `table_node` with index 2(ex:- table_node[2])._\n"
   ]
  },
  {
   "cell_type": "code",
   "execution_count": 7,
   "metadata": {
    "scrolled": true,
    "vscode": {
     "languageId": "r"
    }
   },
   "outputs": [],
   "source": [
    "# Read the table node and convert it into a data frame, and print the data frame for review\n",
    "data <- html_table(table_node[2])\n",
    "data_frame <- data.frame(data)"
   ]
  },
  {
   "cell_type": "markdown",
   "metadata": {},
   "source": [
    "## TASK 3: Pre-process and export the extracted data frame\n",
    "\n",
    "The goal of task 3 is to pre-process the extracted data frame from the previous step, and export it as a csv file\n"
   ]
  },
  {
   "cell_type": "markdown",
   "metadata": {},
   "source": [
    "Let's get a summary of the data frame\n"
   ]
  },
  {
   "cell_type": "code",
   "execution_count": 8,
   "metadata": {
    "vscode": {
     "languageId": "r"
    }
   },
   "outputs": [
    {
     "data": {
      "text/plain": [
       " Country.or.region    Date.a.             Tested            Units.b.        \n",
       " Length:173         Length:173         Length:173         Length:173        \n",
       " Class :character   Class :character   Class :character   Class :character  \n",
       " Mode  :character   Mode  :character   Mode  :character   Mode  :character  \n",
       " Confirmed.cases.   Confirmed..tested.. Tested..population..\n",
       " Length:173         Length:173          Length:173          \n",
       " Class :character   Class :character    Class :character    \n",
       " Mode  :character   Mode  :character    Mode  :character    \n",
       " Confirmed..population..     Ref.          \n",
       " Length:173              Length:173        \n",
       " Class :character        Class :character  \n",
       " Mode  :character        Mode  :character  "
      ]
     },
     "metadata": {},
     "output_type": "display_data"
    }
   ],
   "source": [
    "# Print the summary of the data frame\n",
    "summary(data_frame)"
   ]
  },
  {
   "cell_type": "markdown",
   "metadata": {},
   "source": [
    "As you can see from the summary, the columns names are little bit different to understand and some column data types are not correct. For example, the `Tested` column shows as `character`. \n",
    "\n",
    "As such, the data frame read from HTML table will need some pre-processing such as removing irrelvant columns, renaming columns, and convert columns into proper data types.\n"
   ]
  },
  {
   "cell_type": "markdown",
   "metadata": {},
   "source": [
    "We have prepared a pre-processing function for you to conver the data frame but you can also try to write one by yourself\n"
   ]
  },
  {
   "cell_type": "code",
   "execution_count": 9,
   "metadata": {
    "vscode": {
     "languageId": "r"
    }
   },
   "outputs": [],
   "source": [
    "preprocess_covid_data_frame <- function(data_frame) {\n",
    "    \n",
    "    shape <- dim(data_frame)\n",
    "\n",
    "    # Remove the World row\n",
    "    data_frame<-data_frame[!(data_frame$`Country.or.region`==\"World\"),]\n",
    "    # Remove the last row\n",
    "    data_frame <- data_frame[1:172, ]\n",
    "    \n",
    "    # We dont need the Units and Ref columns, so can be removed\n",
    "    data_frame[\"Ref.\"] <- NULL\n",
    "    data_frame[\"Units.b.\"] <- NULL\n",
    "    \n",
    "    # Renaming the columns\n",
    "    names(data_frame) <- c(\"country\", \"date\", \"tested\", \"confirmed\", \"confirmed.tested.ratio\", \"tested.population.ratio\", \"confirmed.population.ratio\")\n",
    "    \n",
    "    # Convert column data types\n",
    "    data_frame$country <- as.factor(data_frame$country)\n",
    "    data_frame$date <- as.factor(data_frame$date)\n",
    "    data_frame$tested <- as.numeric(gsub(\",\",\"\",data_frame$tested))\n",
    "    data_frame$confirmed <- as.numeric(gsub(\",\",\"\",data_frame$confirmed))\n",
    "    data_frame$'confirmed.tested.ratio' <- as.numeric(gsub(\",\",\"\",data_frame$`confirmed.tested.ratio`))\n",
    "    data_frame$'tested.population.ratio' <- as.numeric(gsub(\",\",\"\",data_frame$`tested.population.ratio`))\n",
    "    data_frame$'confirmed.population.ratio' <- as.numeric(gsub(\",\",\"\",data_frame$`confirmed.population.ratio`))\n",
    "    \n",
    "    return(data_frame)\n",
    "}\n"
   ]
  },
  {
   "cell_type": "markdown",
   "metadata": {},
   "source": [
    "Call the `preprocess_covid_data_frame` function\n"
   ]
  },
  {
   "cell_type": "code",
   "execution_count": 10,
   "metadata": {
    "vscode": {
     "languageId": "r"
    }
   },
   "outputs": [
    {
     "data": {
      "text/html": [
       "<table class=\"dataframe\">\n",
       "<caption>A data.frame: 172 × 7</caption>\n",
       "<thead>\n",
       "\t<tr><th></th><th scope=col>country</th><th scope=col>date</th><th scope=col>tested</th><th scope=col>confirmed</th><th scope=col>confirmed.tested.ratio</th><th scope=col>tested.population.ratio</th><th scope=col>confirmed.population.ratio</th></tr>\n",
       "\t<tr><th></th><th scope=col>&lt;fct&gt;</th><th scope=col>&lt;fct&gt;</th><th scope=col>&lt;dbl&gt;</th><th scope=col>&lt;dbl&gt;</th><th scope=col>&lt;dbl&gt;</th><th scope=col>&lt;dbl&gt;</th><th scope=col>&lt;dbl&gt;</th></tr>\n",
       "</thead>\n",
       "<tbody>\n",
       "\t<tr><th scope=row>1</th><td>Afghanistan           </td><td>17 Dec 2020</td><td>   154767</td><td>   49621</td><td>32.10</td><td>   0.40</td><td> 0.1300</td></tr>\n",
       "\t<tr><th scope=row>2</th><td>Albania               </td><td>18 Feb 2021</td><td>   428654</td><td>   96838</td><td>22.60</td><td>  15.00</td><td> 3.4000</td></tr>\n",
       "\t<tr><th scope=row>3</th><td>Algeria               </td><td>2 Nov 2020 </td><td>   230553</td><td>   58574</td><td>25.40</td><td>   0.53</td><td> 0.1300</td></tr>\n",
       "\t<tr><th scope=row>4</th><td>Andorra               </td><td>23 Feb 2022</td><td>   300307</td><td>   37958</td><td>12.60</td><td> 387.00</td><td>49.0000</td></tr>\n",
       "\t<tr><th scope=row>5</th><td>Angola                </td><td>2 Feb 2021 </td><td>   399228</td><td>   20981</td><td> 5.30</td><td>   1.30</td><td> 0.0670</td></tr>\n",
       "\t<tr><th scope=row>6</th><td>Antigua and Barbuda   </td><td>6 Mar 2021 </td><td>    15268</td><td>     832</td><td> 5.40</td><td>  15.90</td><td> 0.8600</td></tr>\n",
       "\t<tr><th scope=row>7</th><td>Argentina             </td><td>16 Apr 2022</td><td> 35716069</td><td> 9060495</td><td>25.40</td><td>  78.30</td><td>20.0000</td></tr>\n",
       "\t<tr><th scope=row>8</th><td>Armenia               </td><td>29 May 2022</td><td>  3099602</td><td>  422963</td><td>13.60</td><td> 105.00</td><td>14.3000</td></tr>\n",
       "\t<tr><th scope=row>9</th><td>Australia             </td><td>9 Sep 2022 </td><td> 78548492</td><td>10112229</td><td>12.90</td><td> 313.00</td><td>40.3000</td></tr>\n",
       "\t<tr><th scope=row>10</th><td>Austria               </td><td>1 Feb 2023 </td><td>205817752</td><td> 5789991</td><td> 2.80</td><td>2312.00</td><td>65.0000</td></tr>\n",
       "\t<tr><th scope=row>11</th><td>Azerbaijan            </td><td>11 May 2022</td><td>  6838458</td><td>  792638</td><td>11.60</td><td>  69.10</td><td> 8.0000</td></tr>\n",
       "\t<tr><th scope=row>12</th><td>Bahamas               </td><td>28 Nov 2022</td><td>   259366</td><td>   37483</td><td>14.50</td><td>  67.30</td><td> 9.7000</td></tr>\n",
       "\t<tr><th scope=row>13</th><td>Bahrain               </td><td>3 Dec 2022 </td><td> 10578766</td><td>  696614</td><td> 6.60</td><td> 674.00</td><td>44.4000</td></tr>\n",
       "\t<tr><th scope=row>14</th><td>Bangladesh            </td><td>24 Jul 2021</td><td>  7417714</td><td> 1151644</td><td>15.50</td><td>   4.50</td><td> 0.7000</td></tr>\n",
       "\t<tr><th scope=row>15</th><td>Barbados              </td><td>14 Oct 2022</td><td>   770100</td><td>  103014</td><td>13.40</td><td> 268.00</td><td>35.9000</td></tr>\n",
       "\t<tr><th scope=row>16</th><td>Belarus               </td><td>9 May 2022 </td><td> 13217569</td><td>  982809</td><td> 7.40</td><td> 139.00</td><td>10.4000</td></tr>\n",
       "\t<tr><th scope=row>17</th><td>Belgium               </td><td>24 Jan 2023</td><td> 36548544</td><td> 4691499</td><td>12.80</td><td> 317.00</td><td>40.7000</td></tr>\n",
       "\t<tr><th scope=row>18</th><td>Belize                </td><td>8 Jun 2022 </td><td>   572900</td><td>   60694</td><td>10.60</td><td> 140.00</td><td>14.9000</td></tr>\n",
       "\t<tr><th scope=row>19</th><td>Benin                 </td><td>4 May 2021 </td><td>   595112</td><td>    7884</td><td> 1.30</td><td>   5.10</td><td> 0.0670</td></tr>\n",
       "\t<tr><th scope=row>20</th><td>Bhutan                </td><td>28 Feb 2022</td><td>  1736168</td><td>   12702</td><td> 0.73</td><td> 234.00</td><td> 1.7100</td></tr>\n",
       "\t<tr><th scope=row>21</th><td>Bolivia               </td><td>5 Jun 2022 </td><td>  4358669</td><td>  910228</td><td>20.90</td><td>  38.10</td><td> 8.0000</td></tr>\n",
       "\t<tr><th scope=row>22</th><td>Bosnia and Herzegovina</td><td>27 Sep 2022</td><td>  1872934</td><td>  399887</td><td>21.40</td><td>  54.70</td><td>11.7000</td></tr>\n",
       "\t<tr><th scope=row>23</th><td>Botswana              </td><td>11 Jan 2022</td><td>  2026898</td><td>  232432</td><td>11.50</td><td>  89.90</td><td>10.3000</td></tr>\n",
       "\t<tr><th scope=row>24</th><td>Brazil                </td><td>19 Feb 2021</td><td> 23561497</td><td>10081676</td><td>42.80</td><td>  11.20</td><td> 4.8000</td></tr>\n",
       "\t<tr><th scope=row>25</th><td>Brunei                </td><td>2 Aug 2021 </td><td>   153804</td><td>     338</td><td> 0.22</td><td>  33.50</td><td> 0.0740</td></tr>\n",
       "\t<tr><th scope=row>26</th><td>Bulgaria              </td><td>2 Feb 2023 </td><td> 10993239</td><td> 1295524</td><td>11.80</td><td> 158.00</td><td>18.6000</td></tr>\n",
       "\t<tr><th scope=row>27</th><td>Burkina Faso          </td><td>4 Mar 2021 </td><td>   158777</td><td>   12123</td><td> 7.60</td><td>   0.76</td><td> 0.0580</td></tr>\n",
       "\t<tr><th scope=row>28</th><td>Burundi               </td><td>5 Jan 2021 </td><td>    90019</td><td>     884</td><td> 0.98</td><td>   0.76</td><td> 0.0074</td></tr>\n",
       "\t<tr><th scope=row>29</th><td>Cambodia              </td><td>1 Aug 2021 </td><td>  1812706</td><td>   77914</td><td> 4.30</td><td>  11.20</td><td> 0.4800</td></tr>\n",
       "\t<tr><th scope=row>30</th><td>Cameroon              </td><td>18 Feb 2021</td><td>   942685</td><td>   32681</td><td> 3.50</td><td>   3.60</td><td> 0.1200</td></tr>\n",
       "\t<tr><th scope=row>⋮</th><td>⋮</td><td>⋮</td><td>⋮</td><td>⋮</td><td>⋮</td><td>⋮</td><td>⋮</td></tr>\n",
       "\t<tr><th scope=row>143</th><td>Serbia              </td><td>2 Feb 2023 </td><td> 12185475</td><td> 2473599</td><td>20.30</td><td> 175.0000</td><td>35.50000</td></tr>\n",
       "\t<tr><th scope=row>144</th><td>Singapore           </td><td>3 Aug 2021 </td><td> 16206203</td><td>   65315</td><td> 0.40</td><td> 284.0000</td><td> 1.10000</td></tr>\n",
       "\t<tr><th scope=row>145</th><td>Slovakia            </td><td>2 Feb 2023 </td><td>  7391882</td><td> 1861034</td><td>25.20</td><td> 135.0000</td><td>34.10000</td></tr>\n",
       "\t<tr><th scope=row>146</th><td>Slovenia            </td><td>2 Feb 2023 </td><td>  2826117</td><td> 1322282</td><td>46.80</td><td> 135.0000</td><td>63.10000</td></tr>\n",
       "\t<tr><th scope=row>147</th><td>South Africa        </td><td>24 May 2021</td><td> 11378282</td><td> 1637848</td><td>14.40</td><td>  19.2000</td><td> 2.80000</td></tr>\n",
       "\t<tr><th scope=row>148</th><td>South Korea         </td><td>1 Mar 2021 </td><td>  6592010</td><td>   90029</td><td> 1.40</td><td>  12.7000</td><td> 0.17000</td></tr>\n",
       "\t<tr><th scope=row>149</th><td>South Sudan         </td><td>26 May 2021</td><td>   164472</td><td>   10688</td><td> 6.50</td><td>   1.3000</td><td> 0.08400</td></tr>\n",
       "\t<tr><th scope=row>150</th><td>Spain               </td><td>1 Jul 2021 </td><td> 54128524</td><td> 3821305</td><td> 7.10</td><td> 116.0000</td><td> 8.20000</td></tr>\n",
       "\t<tr><th scope=row>151</th><td>Sri Lanka           </td><td>30 Mar 2021</td><td>  2384745</td><td>   93128</td><td> 3.90</td><td>  10.9000</td><td> 0.43000</td></tr>\n",
       "\t<tr><th scope=row>152</th><td>Sudan               </td><td>7 Jan 2021 </td><td>   158804</td><td>   23316</td><td>14.70</td><td>   0.3600</td><td> 0.05300</td></tr>\n",
       "\t<tr><th scope=row>153</th><td>Sweden              </td><td>24 May 2021</td><td>  9996795</td><td> 1074751</td><td>10.80</td><td>  96.8000</td><td>10.40000</td></tr>\n",
       "\t<tr><th scope=row>154</th><td>Switzerland[l]      </td><td>7 Nov 2022 </td><td> 23283909</td><td> 4276836</td><td>18.40</td><td> 270.0000</td><td>49.70000</td></tr>\n",
       "\t<tr><th scope=row>155</th><td>Taiwan[m]           </td><td>3 Feb 2023 </td><td> 30275725</td><td> 8622129</td><td>28.48</td><td> 128.3000</td><td>36.52800</td></tr>\n",
       "\t<tr><th scope=row>156</th><td>Tanzania            </td><td>18 Nov 2020</td><td>     3880</td><td>     509</td><td>13.10</td><td>   0.0065</td><td> 0.00085</td></tr>\n",
       "\t<tr><th scope=row>157</th><td>Thailand            </td><td>4 Mar 2021 </td><td>  1579597</td><td>   26162</td><td> 1.70</td><td>   2.3000</td><td> 0.03800</td></tr>\n",
       "\t<tr><th scope=row>158</th><td>Togo                </td><td>6 Jan 2023 </td><td>   807269</td><td>   39358</td><td> 4.90</td><td>   9.4000</td><td> 0.46000</td></tr>\n",
       "\t<tr><th scope=row>159</th><td>Trinidad and Tobago </td><td>3 Jan 2022 </td><td>   512730</td><td>   92997</td><td>18.10</td><td>  37.6000</td><td> 6.80000</td></tr>\n",
       "\t<tr><th scope=row>160</th><td>Tunisia             </td><td>23 Aug 2021</td><td>  2893625</td><td>  703732</td><td>24.30</td><td>  24.5000</td><td> 6.00000</td></tr>\n",
       "\t<tr><th scope=row>161</th><td>Turkey              </td><td>2 Jul 2021 </td><td> 61236294</td><td> 5435831</td><td> 8.90</td><td>  73.6000</td><td> 6.50000</td></tr>\n",
       "\t<tr><th scope=row>162</th><td>Uganda              </td><td>11 Feb 2021</td><td>   852444</td><td>   39979</td><td> 4.70</td><td>   1.9000</td><td> 0.08700</td></tr>\n",
       "\t<tr><th scope=row>163</th><td>Ukraine             </td><td>24 Nov 2021</td><td> 15648456</td><td> 3367461</td><td>21.50</td><td>  37.2000</td><td> 8.00000</td></tr>\n",
       "\t<tr><th scope=row>164</th><td>United Arab Emirates</td><td>1 Feb 2023 </td><td>198685717</td><td> 1049537</td><td> 0.53</td><td>2070.0000</td><td>10.90000</td></tr>\n",
       "\t<tr><th scope=row>165</th><td>United Kingdom      </td><td>19 May 2022</td><td>522526476</td><td>22232377</td><td> 4.30</td><td> 774.0000</td><td>32.90000</td></tr>\n",
       "\t<tr><th scope=row>166</th><td>United States       </td><td>29 Jul 2022</td><td>929349291</td><td>90749469</td><td> 9.80</td><td> 281.0000</td><td>27.40000</td></tr>\n",
       "\t<tr><th scope=row>167</th><td>Uruguay             </td><td>16 Apr 2022</td><td>  6089116</td><td>  895592</td><td>14.70</td><td> 175.0000</td><td>25.80000</td></tr>\n",
       "\t<tr><th scope=row>168</th><td>Uzbekistan          </td><td>7 Sep 2020 </td><td>  2630000</td><td>   43975</td><td> 1.70</td><td>   7.7000</td><td> 0.13000</td></tr>\n",
       "\t<tr><th scope=row>169</th><td>Venezuela           </td><td>30 Mar 2021</td><td>  3179074</td><td>  159149</td><td> 5.00</td><td>  11.0000</td><td> 0.55000</td></tr>\n",
       "\t<tr><th scope=row>170</th><td>Vietnam             </td><td>28 Aug 2022</td><td> 45772571</td><td>11403302</td><td>24.90</td><td>  46.4000</td><td>11.60000</td></tr>\n",
       "\t<tr><th scope=row>171</th><td>Zambia              </td><td>10 Mar 2022</td><td>  3301860</td><td>  314850</td><td> 9.50</td><td>  19.0000</td><td> 1.80000</td></tr>\n",
       "\t<tr><th scope=row>172</th><td>Zimbabwe            </td><td>15 Oct 2022</td><td>  2529087</td><td>  257893</td><td>10.20</td><td>  17.0000</td><td> 1.70000</td></tr>\n",
       "</tbody>\n",
       "</table>\n"
      ],
      "text/latex": [
       "A data.frame: 172 × 7\n",
       "\\begin{tabular}{r|lllllll}\n",
       "  & country & date & tested & confirmed & confirmed.tested.ratio & tested.population.ratio & confirmed.population.ratio\\\\\n",
       "  & <fct> & <fct> & <dbl> & <dbl> & <dbl> & <dbl> & <dbl>\\\\\n",
       "\\hline\n",
       "\t1 & Afghanistan            & 17 Dec 2020 &    154767 &    49621 & 32.10 &    0.40 &  0.1300\\\\\n",
       "\t2 & Albania                & 18 Feb 2021 &    428654 &    96838 & 22.60 &   15.00 &  3.4000\\\\\n",
       "\t3 & Algeria                & 2 Nov 2020  &    230553 &    58574 & 25.40 &    0.53 &  0.1300\\\\\n",
       "\t4 & Andorra                & 23 Feb 2022 &    300307 &    37958 & 12.60 &  387.00 & 49.0000\\\\\n",
       "\t5 & Angola                 & 2 Feb 2021  &    399228 &    20981 &  5.30 &    1.30 &  0.0670\\\\\n",
       "\t6 & Antigua and Barbuda    & 6 Mar 2021  &     15268 &      832 &  5.40 &   15.90 &  0.8600\\\\\n",
       "\t7 & Argentina              & 16 Apr 2022 &  35716069 &  9060495 & 25.40 &   78.30 & 20.0000\\\\\n",
       "\t8 & Armenia                & 29 May 2022 &   3099602 &   422963 & 13.60 &  105.00 & 14.3000\\\\\n",
       "\t9 & Australia              & 9 Sep 2022  &  78548492 & 10112229 & 12.90 &  313.00 & 40.3000\\\\\n",
       "\t10 & Austria                & 1 Feb 2023  & 205817752 &  5789991 &  2.80 & 2312.00 & 65.0000\\\\\n",
       "\t11 & Azerbaijan             & 11 May 2022 &   6838458 &   792638 & 11.60 &   69.10 &  8.0000\\\\\n",
       "\t12 & Bahamas                & 28 Nov 2022 &    259366 &    37483 & 14.50 &   67.30 &  9.7000\\\\\n",
       "\t13 & Bahrain                & 3 Dec 2022  &  10578766 &   696614 &  6.60 &  674.00 & 44.4000\\\\\n",
       "\t14 & Bangladesh             & 24 Jul 2021 &   7417714 &  1151644 & 15.50 &    4.50 &  0.7000\\\\\n",
       "\t15 & Barbados               & 14 Oct 2022 &    770100 &   103014 & 13.40 &  268.00 & 35.9000\\\\\n",
       "\t16 & Belarus                & 9 May 2022  &  13217569 &   982809 &  7.40 &  139.00 & 10.4000\\\\\n",
       "\t17 & Belgium                & 24 Jan 2023 &  36548544 &  4691499 & 12.80 &  317.00 & 40.7000\\\\\n",
       "\t18 & Belize                 & 8 Jun 2022  &    572900 &    60694 & 10.60 &  140.00 & 14.9000\\\\\n",
       "\t19 & Benin                  & 4 May 2021  &    595112 &     7884 &  1.30 &    5.10 &  0.0670\\\\\n",
       "\t20 & Bhutan                 & 28 Feb 2022 &   1736168 &    12702 &  0.73 &  234.00 &  1.7100\\\\\n",
       "\t21 & Bolivia                & 5 Jun 2022  &   4358669 &   910228 & 20.90 &   38.10 &  8.0000\\\\\n",
       "\t22 & Bosnia and Herzegovina & 27 Sep 2022 &   1872934 &   399887 & 21.40 &   54.70 & 11.7000\\\\\n",
       "\t23 & Botswana               & 11 Jan 2022 &   2026898 &   232432 & 11.50 &   89.90 & 10.3000\\\\\n",
       "\t24 & Brazil                 & 19 Feb 2021 &  23561497 & 10081676 & 42.80 &   11.20 &  4.8000\\\\\n",
       "\t25 & Brunei                 & 2 Aug 2021  &    153804 &      338 &  0.22 &   33.50 &  0.0740\\\\\n",
       "\t26 & Bulgaria               & 2 Feb 2023  &  10993239 &  1295524 & 11.80 &  158.00 & 18.6000\\\\\n",
       "\t27 & Burkina Faso           & 4 Mar 2021  &    158777 &    12123 &  7.60 &    0.76 &  0.0580\\\\\n",
       "\t28 & Burundi                & 5 Jan 2021  &     90019 &      884 &  0.98 &    0.76 &  0.0074\\\\\n",
       "\t29 & Cambodia               & 1 Aug 2021  &   1812706 &    77914 &  4.30 &   11.20 &  0.4800\\\\\n",
       "\t30 & Cameroon               & 18 Feb 2021 &    942685 &    32681 &  3.50 &    3.60 &  0.1200\\\\\n",
       "\t⋮ & ⋮ & ⋮ & ⋮ & ⋮ & ⋮ & ⋮ & ⋮\\\\\n",
       "\t143 & Serbia               & 2 Feb 2023  &  12185475 &  2473599 & 20.30 &  175.0000 & 35.50000\\\\\n",
       "\t144 & Singapore            & 3 Aug 2021  &  16206203 &    65315 &  0.40 &  284.0000 &  1.10000\\\\\n",
       "\t145 & Slovakia             & 2 Feb 2023  &   7391882 &  1861034 & 25.20 &  135.0000 & 34.10000\\\\\n",
       "\t146 & Slovenia             & 2 Feb 2023  &   2826117 &  1322282 & 46.80 &  135.0000 & 63.10000\\\\\n",
       "\t147 & South Africa         & 24 May 2021 &  11378282 &  1637848 & 14.40 &   19.2000 &  2.80000\\\\\n",
       "\t148 & South Korea          & 1 Mar 2021  &   6592010 &    90029 &  1.40 &   12.7000 &  0.17000\\\\\n",
       "\t149 & South Sudan          & 26 May 2021 &    164472 &    10688 &  6.50 &    1.3000 &  0.08400\\\\\n",
       "\t150 & Spain                & 1 Jul 2021  &  54128524 &  3821305 &  7.10 &  116.0000 &  8.20000\\\\\n",
       "\t151 & Sri Lanka            & 30 Mar 2021 &   2384745 &    93128 &  3.90 &   10.9000 &  0.43000\\\\\n",
       "\t152 & Sudan                & 7 Jan 2021  &    158804 &    23316 & 14.70 &    0.3600 &  0.05300\\\\\n",
       "\t153 & Sweden               & 24 May 2021 &   9996795 &  1074751 & 10.80 &   96.8000 & 10.40000\\\\\n",
       "\t154 & Switzerland{[}l{]}       & 7 Nov 2022  &  23283909 &  4276836 & 18.40 &  270.0000 & 49.70000\\\\\n",
       "\t155 & Taiwan{[}m{]}            & 3 Feb 2023  &  30275725 &  8622129 & 28.48 &  128.3000 & 36.52800\\\\\n",
       "\t156 & Tanzania             & 18 Nov 2020 &      3880 &      509 & 13.10 &    0.0065 &  0.00085\\\\\n",
       "\t157 & Thailand             & 4 Mar 2021  &   1579597 &    26162 &  1.70 &    2.3000 &  0.03800\\\\\n",
       "\t158 & Togo                 & 6 Jan 2023  &    807269 &    39358 &  4.90 &    9.4000 &  0.46000\\\\\n",
       "\t159 & Trinidad and Tobago  & 3 Jan 2022  &    512730 &    92997 & 18.10 &   37.6000 &  6.80000\\\\\n",
       "\t160 & Tunisia              & 23 Aug 2021 &   2893625 &   703732 & 24.30 &   24.5000 &  6.00000\\\\\n",
       "\t161 & Turkey               & 2 Jul 2021  &  61236294 &  5435831 &  8.90 &   73.6000 &  6.50000\\\\\n",
       "\t162 & Uganda               & 11 Feb 2021 &    852444 &    39979 &  4.70 &    1.9000 &  0.08700\\\\\n",
       "\t163 & Ukraine              & 24 Nov 2021 &  15648456 &  3367461 & 21.50 &   37.2000 &  8.00000\\\\\n",
       "\t164 & United Arab Emirates & 1 Feb 2023  & 198685717 &  1049537 &  0.53 & 2070.0000 & 10.90000\\\\\n",
       "\t165 & United Kingdom       & 19 May 2022 & 522526476 & 22232377 &  4.30 &  774.0000 & 32.90000\\\\\n",
       "\t166 & United States        & 29 Jul 2022 & 929349291 & 90749469 &  9.80 &  281.0000 & 27.40000\\\\\n",
       "\t167 & Uruguay              & 16 Apr 2022 &   6089116 &   895592 & 14.70 &  175.0000 & 25.80000\\\\\n",
       "\t168 & Uzbekistan           & 7 Sep 2020  &   2630000 &    43975 &  1.70 &    7.7000 &  0.13000\\\\\n",
       "\t169 & Venezuela            & 30 Mar 2021 &   3179074 &   159149 &  5.00 &   11.0000 &  0.55000\\\\\n",
       "\t170 & Vietnam              & 28 Aug 2022 &  45772571 & 11403302 & 24.90 &   46.4000 & 11.60000\\\\\n",
       "\t171 & Zambia               & 10 Mar 2022 &   3301860 &   314850 &  9.50 &   19.0000 &  1.80000\\\\\n",
       "\t172 & Zimbabwe             & 15 Oct 2022 &   2529087 &   257893 & 10.20 &   17.0000 &  1.70000\\\\\n",
       "\\end{tabular}\n"
      ],
      "text/markdown": [
       "\n",
       "A data.frame: 172 × 7\n",
       "\n",
       "| <!--/--> | country &lt;fct&gt; | date &lt;fct&gt; | tested &lt;dbl&gt; | confirmed &lt;dbl&gt; | confirmed.tested.ratio &lt;dbl&gt; | tested.population.ratio &lt;dbl&gt; | confirmed.population.ratio &lt;dbl&gt; |\n",
       "|---|---|---|---|---|---|---|---|\n",
       "| 1 | Afghanistan            | 17 Dec 2020 |    154767 |    49621 | 32.10 |    0.40 |  0.1300 |\n",
       "| 2 | Albania                | 18 Feb 2021 |    428654 |    96838 | 22.60 |   15.00 |  3.4000 |\n",
       "| 3 | Algeria                | 2 Nov 2020  |    230553 |    58574 | 25.40 |    0.53 |  0.1300 |\n",
       "| 4 | Andorra                | 23 Feb 2022 |    300307 |    37958 | 12.60 |  387.00 | 49.0000 |\n",
       "| 5 | Angola                 | 2 Feb 2021  |    399228 |    20981 |  5.30 |    1.30 |  0.0670 |\n",
       "| 6 | Antigua and Barbuda    | 6 Mar 2021  |     15268 |      832 |  5.40 |   15.90 |  0.8600 |\n",
       "| 7 | Argentina              | 16 Apr 2022 |  35716069 |  9060495 | 25.40 |   78.30 | 20.0000 |\n",
       "| 8 | Armenia                | 29 May 2022 |   3099602 |   422963 | 13.60 |  105.00 | 14.3000 |\n",
       "| 9 | Australia              | 9 Sep 2022  |  78548492 | 10112229 | 12.90 |  313.00 | 40.3000 |\n",
       "| 10 | Austria                | 1 Feb 2023  | 205817752 |  5789991 |  2.80 | 2312.00 | 65.0000 |\n",
       "| 11 | Azerbaijan             | 11 May 2022 |   6838458 |   792638 | 11.60 |   69.10 |  8.0000 |\n",
       "| 12 | Bahamas                | 28 Nov 2022 |    259366 |    37483 | 14.50 |   67.30 |  9.7000 |\n",
       "| 13 | Bahrain                | 3 Dec 2022  |  10578766 |   696614 |  6.60 |  674.00 | 44.4000 |\n",
       "| 14 | Bangladesh             | 24 Jul 2021 |   7417714 |  1151644 | 15.50 |    4.50 |  0.7000 |\n",
       "| 15 | Barbados               | 14 Oct 2022 |    770100 |   103014 | 13.40 |  268.00 | 35.9000 |\n",
       "| 16 | Belarus                | 9 May 2022  |  13217569 |   982809 |  7.40 |  139.00 | 10.4000 |\n",
       "| 17 | Belgium                | 24 Jan 2023 |  36548544 |  4691499 | 12.80 |  317.00 | 40.7000 |\n",
       "| 18 | Belize                 | 8 Jun 2022  |    572900 |    60694 | 10.60 |  140.00 | 14.9000 |\n",
       "| 19 | Benin                  | 4 May 2021  |    595112 |     7884 |  1.30 |    5.10 |  0.0670 |\n",
       "| 20 | Bhutan                 | 28 Feb 2022 |   1736168 |    12702 |  0.73 |  234.00 |  1.7100 |\n",
       "| 21 | Bolivia                | 5 Jun 2022  |   4358669 |   910228 | 20.90 |   38.10 |  8.0000 |\n",
       "| 22 | Bosnia and Herzegovina | 27 Sep 2022 |   1872934 |   399887 | 21.40 |   54.70 | 11.7000 |\n",
       "| 23 | Botswana               | 11 Jan 2022 |   2026898 |   232432 | 11.50 |   89.90 | 10.3000 |\n",
       "| 24 | Brazil                 | 19 Feb 2021 |  23561497 | 10081676 | 42.80 |   11.20 |  4.8000 |\n",
       "| 25 | Brunei                 | 2 Aug 2021  |    153804 |      338 |  0.22 |   33.50 |  0.0740 |\n",
       "| 26 | Bulgaria               | 2 Feb 2023  |  10993239 |  1295524 | 11.80 |  158.00 | 18.6000 |\n",
       "| 27 | Burkina Faso           | 4 Mar 2021  |    158777 |    12123 |  7.60 |    0.76 |  0.0580 |\n",
       "| 28 | Burundi                | 5 Jan 2021  |     90019 |      884 |  0.98 |    0.76 |  0.0074 |\n",
       "| 29 | Cambodia               | 1 Aug 2021  |   1812706 |    77914 |  4.30 |   11.20 |  0.4800 |\n",
       "| 30 | Cameroon               | 18 Feb 2021 |    942685 |    32681 |  3.50 |    3.60 |  0.1200 |\n",
       "| ⋮ | ⋮ | ⋮ | ⋮ | ⋮ | ⋮ | ⋮ | ⋮ |\n",
       "| 143 | Serbia               | 2 Feb 2023  |  12185475 |  2473599 | 20.30 |  175.0000 | 35.50000 |\n",
       "| 144 | Singapore            | 3 Aug 2021  |  16206203 |    65315 |  0.40 |  284.0000 |  1.10000 |\n",
       "| 145 | Slovakia             | 2 Feb 2023  |   7391882 |  1861034 | 25.20 |  135.0000 | 34.10000 |\n",
       "| 146 | Slovenia             | 2 Feb 2023  |   2826117 |  1322282 | 46.80 |  135.0000 | 63.10000 |\n",
       "| 147 | South Africa         | 24 May 2021 |  11378282 |  1637848 | 14.40 |   19.2000 |  2.80000 |\n",
       "| 148 | South Korea          | 1 Mar 2021  |   6592010 |    90029 |  1.40 |   12.7000 |  0.17000 |\n",
       "| 149 | South Sudan          | 26 May 2021 |    164472 |    10688 |  6.50 |    1.3000 |  0.08400 |\n",
       "| 150 | Spain                | 1 Jul 2021  |  54128524 |  3821305 |  7.10 |  116.0000 |  8.20000 |\n",
       "| 151 | Sri Lanka            | 30 Mar 2021 |   2384745 |    93128 |  3.90 |   10.9000 |  0.43000 |\n",
       "| 152 | Sudan                | 7 Jan 2021  |    158804 |    23316 | 14.70 |    0.3600 |  0.05300 |\n",
       "| 153 | Sweden               | 24 May 2021 |   9996795 |  1074751 | 10.80 |   96.8000 | 10.40000 |\n",
       "| 154 | Switzerland[l]       | 7 Nov 2022  |  23283909 |  4276836 | 18.40 |  270.0000 | 49.70000 |\n",
       "| 155 | Taiwan[m]            | 3 Feb 2023  |  30275725 |  8622129 | 28.48 |  128.3000 | 36.52800 |\n",
       "| 156 | Tanzania             | 18 Nov 2020 |      3880 |      509 | 13.10 |    0.0065 |  0.00085 |\n",
       "| 157 | Thailand             | 4 Mar 2021  |   1579597 |    26162 |  1.70 |    2.3000 |  0.03800 |\n",
       "| 158 | Togo                 | 6 Jan 2023  |    807269 |    39358 |  4.90 |    9.4000 |  0.46000 |\n",
       "| 159 | Trinidad and Tobago  | 3 Jan 2022  |    512730 |    92997 | 18.10 |   37.6000 |  6.80000 |\n",
       "| 160 | Tunisia              | 23 Aug 2021 |   2893625 |   703732 | 24.30 |   24.5000 |  6.00000 |\n",
       "| 161 | Turkey               | 2 Jul 2021  |  61236294 |  5435831 |  8.90 |   73.6000 |  6.50000 |\n",
       "| 162 | Uganda               | 11 Feb 2021 |    852444 |    39979 |  4.70 |    1.9000 |  0.08700 |\n",
       "| 163 | Ukraine              | 24 Nov 2021 |  15648456 |  3367461 | 21.50 |   37.2000 |  8.00000 |\n",
       "| 164 | United Arab Emirates | 1 Feb 2023  | 198685717 |  1049537 |  0.53 | 2070.0000 | 10.90000 |\n",
       "| 165 | United Kingdom       | 19 May 2022 | 522526476 | 22232377 |  4.30 |  774.0000 | 32.90000 |\n",
       "| 166 | United States        | 29 Jul 2022 | 929349291 | 90749469 |  9.80 |  281.0000 | 27.40000 |\n",
       "| 167 | Uruguay              | 16 Apr 2022 |   6089116 |   895592 | 14.70 |  175.0000 | 25.80000 |\n",
       "| 168 | Uzbekistan           | 7 Sep 2020  |   2630000 |    43975 |  1.70 |    7.7000 |  0.13000 |\n",
       "| 169 | Venezuela            | 30 Mar 2021 |   3179074 |   159149 |  5.00 |   11.0000 |  0.55000 |\n",
       "| 170 | Vietnam              | 28 Aug 2022 |  45772571 | 11403302 | 24.90 |   46.4000 | 11.60000 |\n",
       "| 171 | Zambia               | 10 Mar 2022 |   3301860 |   314850 |  9.50 |   19.0000 |  1.80000 |\n",
       "| 172 | Zimbabwe             | 15 Oct 2022 |   2529087 |   257893 | 10.20 |   17.0000 |  1.70000 |\n",
       "\n"
      ],
      "text/plain": [
       "    country                date        tested    confirmed\n",
       "1   Afghanistan            17 Dec 2020    154767    49621 \n",
       "2   Albania                18 Feb 2021    428654    96838 \n",
       "3   Algeria                2 Nov 2020     230553    58574 \n",
       "4   Andorra                23 Feb 2022    300307    37958 \n",
       "5   Angola                 2 Feb 2021     399228    20981 \n",
       "6   Antigua and Barbuda    6 Mar 2021      15268      832 \n",
       "7   Argentina              16 Apr 2022  35716069  9060495 \n",
       "8   Armenia                29 May 2022   3099602   422963 \n",
       "9   Australia              9 Sep 2022   78548492 10112229 \n",
       "10  Austria                1 Feb 2023  205817752  5789991 \n",
       "11  Azerbaijan             11 May 2022   6838458   792638 \n",
       "12  Bahamas                28 Nov 2022    259366    37483 \n",
       "13  Bahrain                3 Dec 2022   10578766   696614 \n",
       "14  Bangladesh             24 Jul 2021   7417714  1151644 \n",
       "15  Barbados               14 Oct 2022    770100   103014 \n",
       "16  Belarus                9 May 2022   13217569   982809 \n",
       "17  Belgium                24 Jan 2023  36548544  4691499 \n",
       "18  Belize                 8 Jun 2022     572900    60694 \n",
       "19  Benin                  4 May 2021     595112     7884 \n",
       "20  Bhutan                 28 Feb 2022   1736168    12702 \n",
       "21  Bolivia                5 Jun 2022    4358669   910228 \n",
       "22  Bosnia and Herzegovina 27 Sep 2022   1872934   399887 \n",
       "23  Botswana               11 Jan 2022   2026898   232432 \n",
       "24  Brazil                 19 Feb 2021  23561497 10081676 \n",
       "25  Brunei                 2 Aug 2021     153804      338 \n",
       "26  Bulgaria               2 Feb 2023   10993239  1295524 \n",
       "27  Burkina Faso           4 Mar 2021     158777    12123 \n",
       "28  Burundi                5 Jan 2021      90019      884 \n",
       "29  Cambodia               1 Aug 2021    1812706    77914 \n",
       "30  Cameroon               18 Feb 2021    942685    32681 \n",
       "⋮   ⋮                      ⋮           ⋮         ⋮        \n",
       "143 Serbia                 2 Feb 2023   12185475  2473599 \n",
       "144 Singapore              3 Aug 2021   16206203    65315 \n",
       "145 Slovakia               2 Feb 2023    7391882  1861034 \n",
       "146 Slovenia               2 Feb 2023    2826117  1322282 \n",
       "147 South Africa           24 May 2021  11378282  1637848 \n",
       "148 South Korea            1 Mar 2021    6592010    90029 \n",
       "149 South Sudan            26 May 2021    164472    10688 \n",
       "150 Spain                  1 Jul 2021   54128524  3821305 \n",
       "151 Sri Lanka              30 Mar 2021   2384745    93128 \n",
       "152 Sudan                  7 Jan 2021     158804    23316 \n",
       "153 Sweden                 24 May 2021   9996795  1074751 \n",
       "154 Switzerland[l]         7 Nov 2022   23283909  4276836 \n",
       "155 Taiwan[m]              3 Feb 2023   30275725  8622129 \n",
       "156 Tanzania               18 Nov 2020      3880      509 \n",
       "157 Thailand               4 Mar 2021    1579597    26162 \n",
       "158 Togo                   6 Jan 2023     807269    39358 \n",
       "159 Trinidad and Tobago    3 Jan 2022     512730    92997 \n",
       "160 Tunisia                23 Aug 2021   2893625   703732 \n",
       "161 Turkey                 2 Jul 2021   61236294  5435831 \n",
       "162 Uganda                 11 Feb 2021    852444    39979 \n",
       "163 Ukraine                24 Nov 2021  15648456  3367461 \n",
       "164 United Arab Emirates   1 Feb 2023  198685717  1049537 \n",
       "165 United Kingdom         19 May 2022 522526476 22232377 \n",
       "166 United States          29 Jul 2022 929349291 90749469 \n",
       "167 Uruguay                16 Apr 2022   6089116   895592 \n",
       "168 Uzbekistan             7 Sep 2020    2630000    43975 \n",
       "169 Venezuela              30 Mar 2021   3179074   159149 \n",
       "170 Vietnam                28 Aug 2022  45772571 11403302 \n",
       "171 Zambia                 10 Mar 2022   3301860   314850 \n",
       "172 Zimbabwe               15 Oct 2022   2529087   257893 \n",
       "    confirmed.tested.ratio tested.population.ratio confirmed.population.ratio\n",
       "1   32.10                     0.40                  0.1300                   \n",
       "2   22.60                    15.00                  3.4000                   \n",
       "3   25.40                     0.53                  0.1300                   \n",
       "4   12.60                   387.00                 49.0000                   \n",
       "5    5.30                     1.30                  0.0670                   \n",
       "6    5.40                    15.90                  0.8600                   \n",
       "7   25.40                    78.30                 20.0000                   \n",
       "8   13.60                   105.00                 14.3000                   \n",
       "9   12.90                   313.00                 40.3000                   \n",
       "10   2.80                  2312.00                 65.0000                   \n",
       "11  11.60                    69.10                  8.0000                   \n",
       "12  14.50                    67.30                  9.7000                   \n",
       "13   6.60                   674.00                 44.4000                   \n",
       "14  15.50                     4.50                  0.7000                   \n",
       "15  13.40                   268.00                 35.9000                   \n",
       "16   7.40                   139.00                 10.4000                   \n",
       "17  12.80                   317.00                 40.7000                   \n",
       "18  10.60                   140.00                 14.9000                   \n",
       "19   1.30                     5.10                  0.0670                   \n",
       "20   0.73                   234.00                  1.7100                   \n",
       "21  20.90                    38.10                  8.0000                   \n",
       "22  21.40                    54.70                 11.7000                   \n",
       "23  11.50                    89.90                 10.3000                   \n",
       "24  42.80                    11.20                  4.8000                   \n",
       "25   0.22                    33.50                  0.0740                   \n",
       "26  11.80                   158.00                 18.6000                   \n",
       "27   7.60                     0.76                  0.0580                   \n",
       "28   0.98                     0.76                  0.0074                   \n",
       "29   4.30                    11.20                  0.4800                   \n",
       "30   3.50                     3.60                  0.1200                   \n",
       "⋮   ⋮                      ⋮                       ⋮                         \n",
       "143 20.30                   175.0000               35.50000                  \n",
       "144  0.40                   284.0000                1.10000                  \n",
       "145 25.20                   135.0000               34.10000                  \n",
       "146 46.80                   135.0000               63.10000                  \n",
       "147 14.40                    19.2000                2.80000                  \n",
       "148  1.40                    12.7000                0.17000                  \n",
       "149  6.50                     1.3000                0.08400                  \n",
       "150  7.10                   116.0000                8.20000                  \n",
       "151  3.90                    10.9000                0.43000                  \n",
       "152 14.70                     0.3600                0.05300                  \n",
       "153 10.80                    96.8000               10.40000                  \n",
       "154 18.40                   270.0000               49.70000                  \n",
       "155 28.48                   128.3000               36.52800                  \n",
       "156 13.10                     0.0065                0.00085                  \n",
       "157  1.70                     2.3000                0.03800                  \n",
       "158  4.90                     9.4000                0.46000                  \n",
       "159 18.10                    37.6000                6.80000                  \n",
       "160 24.30                    24.5000                6.00000                  \n",
       "161  8.90                    73.6000                6.50000                  \n",
       "162  4.70                     1.9000                0.08700                  \n",
       "163 21.50                    37.2000                8.00000                  \n",
       "164  0.53                  2070.0000               10.90000                  \n",
       "165  4.30                   774.0000               32.90000                  \n",
       "166  9.80                   281.0000               27.40000                  \n",
       "167 14.70                   175.0000               25.80000                  \n",
       "168  1.70                     7.7000                0.13000                  \n",
       "169  5.00                    11.0000                0.55000                  \n",
       "170 24.90                    46.4000               11.60000                  \n",
       "171  9.50                    19.0000                1.80000                  \n",
       "172 10.20                    17.0000                1.70000                  "
      ]
     },
     "metadata": {},
     "output_type": "display_data"
    }
   ],
   "source": [
    "# call `preprocess_covid_data_frame` function and assign it to a new data frame\n",
    "data_frame <- preprocess_covid_data_frame(data_frame)\n",
    "data_frame"
   ]
  },
  {
   "cell_type": "markdown",
   "metadata": {},
   "source": [
    "Get the summary of the processed data frame again\n"
   ]
  },
  {
   "cell_type": "code",
   "execution_count": 11,
   "metadata": {
    "vscode": {
     "languageId": "r"
    }
   },
   "outputs": [
    {
     "data": {
      "text/plain": [
       "                country             date         tested         \n",
       " Afghanistan        :  1   2 Feb 2023 :  6   Min.   :     3880  \n",
       " Albania            :  1   1 Feb 2023 :  4   1st Qu.:   512037  \n",
       " Algeria            :  1   31 Jan 2023:  4   Median :  3029859  \n",
       " Andorra            :  1   1 Mar 2021 :  3   Mean   : 31377219  \n",
       " Angola             :  1   23 Jul 2021:  3   3rd Qu.: 12386725  \n",
       " Antigua and Barbuda:  1   29 Jan 2023:  3   Max.   :929349291  \n",
       " (Other)            :166   (Other)    :149                      \n",
       "   confirmed        confirmed.tested.ratio tested.population.ratio\n",
       " Min.   :       0   Min.   : 0.00          Min.   :   0.006       \n",
       " 1st Qu.:   37839   1st Qu.: 5.00          1st Qu.:   9.475       \n",
       " Median :  281196   Median :10.05          Median :  46.950       \n",
       " Mean   : 2508340   Mean   :11.25          Mean   : 175.504       \n",
       " 3rd Qu.: 1278105   3rd Qu.:15.25          3rd Qu.: 156.500       \n",
       " Max.   :90749469   Max.   :46.80          Max.   :3223.000       \n",
       "                                                                  \n",
       " confirmed.population.ratio\n",
       " Min.   : 0.000            \n",
       " 1st Qu.: 0.425            \n",
       " Median : 6.100            \n",
       " Mean   :12.769            \n",
       " 3rd Qu.:16.250            \n",
       " Max.   :74.400            \n",
       "                           "
      ]
     },
     "metadata": {},
     "output_type": "display_data"
    }
   ],
   "source": [
    "# Print the summary of the processed data frame again\n",
    "summary(data_frame)"
   ]
  },
  {
   "cell_type": "markdown",
   "metadata": {},
   "source": [
    "After pre-processing, you can see the columns and columns names are simplified, and columns types are converted into correct types.\n"
   ]
  },
  {
   "cell_type": "markdown",
   "metadata": {},
   "source": [
    "The data frame has following columns:\n",
    "\n",
    "- **country** - The name of the country\n",
    "- **date** - Reported date\n",
    "- **tested** - Total tested cases by the reported date\n",
    "- **confirmed** - Total confirmed cases by the reported date\n",
    "- **confirmed.tested.ratio** - The ratio of confirmed cases to the tested cases\n",
    "- **tested.population.ratio** - The ratio of tested cases to the population of the country\n",
    "- **confirmed.population.ratio** - The ratio of confirmed cases to the population of the country\n"
   ]
  },
  {
   "cell_type": "markdown",
   "metadata": {},
   "source": [
    "OK, we can call `write.csv()` function to save the csv file into a file. \n"
   ]
  },
  {
   "cell_type": "code",
   "execution_count": 12,
   "metadata": {
    "vscode": {
     "languageId": "r"
    }
   },
   "outputs": [
    {
     "data": {
      "text/html": [
       "'c:/Users/Sumit/Documents/RStudio/notebook/final_project'"
      ],
      "text/latex": [
       "'c:/Users/Sumit/Documents/RStudio/notebook/final\\_project'"
      ],
      "text/markdown": [
       "'c:/Users/Sumit/Documents/RStudio/notebook/final_project'"
      ],
      "text/plain": [
       "[1] \"c:/Users/Sumit/Documents/RStudio/notebook/final_project\""
      ]
     },
     "metadata": {},
     "output_type": "display_data"
    }
   ],
   "source": [
    "getwd()"
   ]
  },
  {
   "cell_type": "code",
   "execution_count": 13,
   "metadata": {
    "vscode": {
     "languageId": "r"
    }
   },
   "outputs": [],
   "source": [
    "# Export the data frame to a csv file\n",
    "write.csv(data_frame, file = \"covid.csv\", row.names = FALSE)"
   ]
  },
  {
   "cell_type": "markdown",
   "metadata": {},
   "source": [
    "Note for IBM Waston Studio, there is no traditional \"hard disk\" associated with a R workspace.\n",
    "\n",
    "Even if you call `write.csv()` method to save the data frame as a csv file, it won't be shown in IBM Cloud Object Storage asset UI automatically.\n",
    "\n",
    "However, you may still check if the `covid.csv` exists using following code snippet:\n"
   ]
  },
  {
   "cell_type": "code",
   "execution_count": 14,
   "metadata": {
    "vscode": {
     "languageId": "r"
    }
   },
   "outputs": [
    {
     "name": "stdout",
     "output_type": "stream",
     "text": [
      "[1] \"c:/Users/Sumit/Documents/RStudio/notebook/final_project/covid.csv\"\n"
     ]
    },
    {
     "data": {
      "text/html": [
       "TRUE"
      ],
      "text/latex": [
       "TRUE"
      ],
      "text/markdown": [
       "TRUE"
      ],
      "text/plain": [
       "[1] TRUE"
      ]
     },
     "metadata": {},
     "output_type": "display_data"
    }
   ],
   "source": [
    "# Get working directory\n",
    "wd <- getwd()\n",
    "# Get exported \n",
    "file_path <- paste(wd, sep=\"\", \"/covid.csv\")\n",
    "# File path\n",
    "print(file_path)\n",
    "file.exists(file_path)"
   ]
  },
  {
   "cell_type": "markdown",
   "metadata": {},
   "source": [
    "**Optional Step**: If you have difficulties finishing above webscraping tasks, you may still continue with next tasks by downloading a provided csv file from here:\n"
   ]
  },
  {
   "cell_type": "code",
   "execution_count": 15,
   "metadata": {
    "vscode": {
     "languageId": "r"
    }
   },
   "outputs": [],
   "source": [
    "## Download a sample csv file\n",
    "# covid_csv_file <- download.file(\"https://cf-courses-data.s3.us.cloud-object-storage.appdomain.cloud/IBMDeveloperSkillsNetwork-RP0101EN-Coursera/v2/dataset/covid.csv\", destfile=\"covid.csv\")\n",
    "# covid_data_frame_csv <- read.csv(\"covid.csv\", header=TRUE, sep=\",\")"
   ]
  },
  {
   "cell_type": "markdown",
   "metadata": {},
   "source": [
    "## TASK 4: Get a subset of the extracted data frame\n",
    "\n",
    "The goal of task 4 is to get the 5th to 10th rows from the data frame with only `country` and `confirmed` columns selected\n"
   ]
  },
  {
   "cell_type": "code",
   "execution_count": 16,
   "metadata": {
    "vscode": {
     "languageId": "r"
    }
   },
   "outputs": [
    {
     "data": {
      "text/html": [
       "<table class=\"dataframe\">\n",
       "<caption>A data.frame: 2 × 2</caption>\n",
       "<thead>\n",
       "\t<tr><th></th><th scope=col>country</th><th scope=col>confirmed</th></tr>\n",
       "\t<tr><th></th><th scope=col>&lt;chr&gt;</th><th scope=col>&lt;int&gt;</th></tr>\n",
       "</thead>\n",
       "<tbody>\n",
       "\t<tr><th scope=row>5</th><td>Angola </td><td>  20981</td></tr>\n",
       "\t<tr><th scope=row>10</th><td>Austria</td><td>5789991</td></tr>\n",
       "</tbody>\n",
       "</table>\n"
      ],
      "text/latex": [
       "A data.frame: 2 × 2\n",
       "\\begin{tabular}{r|ll}\n",
       "  & country & confirmed\\\\\n",
       "  & <chr> & <int>\\\\\n",
       "\\hline\n",
       "\t5 & Angola  &   20981\\\\\n",
       "\t10 & Austria & 5789991\\\\\n",
       "\\end{tabular}\n"
      ],
      "text/markdown": [
       "\n",
       "A data.frame: 2 × 2\n",
       "\n",
       "| <!--/--> | country &lt;chr&gt; | confirmed &lt;int&gt; |\n",
       "|---|---|---|\n",
       "| 5 | Angola  |   20981 |\n",
       "| 10 | Austria | 5789991 |\n",
       "\n"
      ],
      "text/plain": [
       "   country confirmed\n",
       "5  Angola    20981  \n",
       "10 Austria 5789991  "
      ]
     },
     "metadata": {},
     "output_type": "display_data"
    }
   ],
   "source": [
    "# Read covid_data_frame_csv from the csv file\n",
    "covid_data_frame_csv <- read.csv(\"covid.csv\", header = TRUE, sep=\",\")\n",
    "# Get the 5th to 10th rows, with two \"country\" \"confirmed\" columns\n",
    "covid_data_frame_csv[c(5,10),c(\"country\", \"confirmed\")]"
   ]
  },
  {
   "cell_type": "markdown",
   "metadata": {},
   "source": [
    "## TASK 5: Calculate worldwide COVID testing positive ratio\n",
    "\n",
    "The goal of task 5 is to get the total confirmed and tested cases worldwide, and try to figure the overall positive ratio using `confirmed cases / tested cases`\n"
   ]
  },
  {
   "cell_type": "code",
   "execution_count": 17,
   "metadata": {
    "vscode": {
     "languageId": "r"
    }
   },
   "outputs": [
    {
     "data": {
      "text/html": [
       "0.0799414520197323"
      ],
      "text/latex": [
       "0.0799414520197323"
      ],
      "text/markdown": [
       "0.0799414520197323"
      ],
      "text/plain": [
       "[1] 0.07994145"
      ]
     },
     "metadata": {},
     "output_type": "display_data"
    }
   ],
   "source": [
    "# Get the total confirmed cases worldwide\n",
    "total_confirmed <- sum(covid_data_frame_csv$confirmed) \n",
    "# Get the total tested cases worldwide\n",
    "total_tested <- sum(covid_data_frame_csv$tested)\n",
    "# Get the positive ratio (confirmed / tested)\n",
    "positive_ratio <- total_confirmed / total_tested\n",
    "positive_ratio"
   ]
  },
  {
   "cell_type": "markdown",
   "metadata": {},
   "source": [
    "## TASK 6: Get a country list which reported their testing data \n",
    "\n",
    "The goal of task 6 is to get a catalog or sorted list of countries who have reported their COVID-19 testing data\n"
   ]
  },
  {
   "cell_type": "code",
   "execution_count": 18,
   "metadata": {
    "vscode": {
     "languageId": "r"
    }
   },
   "outputs": [],
   "source": [
    "# Get the `country` column\n",
    "country_col <- covid_data_frame_csv$country"
   ]
  },
  {
   "cell_type": "code",
   "execution_count": 19,
   "metadata": {
    "vscode": {
     "languageId": "r"
    }
   },
   "outputs": [
    {
     "data": {
      "text/html": [
       "'character'"
      ],
      "text/latex": [
       "'character'"
      ],
      "text/markdown": [
       "'character'"
      ],
      "text/plain": [
       "[1] \"character\""
      ]
     },
     "metadata": {},
     "output_type": "display_data"
    }
   ],
   "source": [
    "# Check its class (should be Factor)\n",
    "class(country_col)"
   ]
  },
  {
   "cell_type": "code",
   "execution_count": 20,
   "metadata": {
    "vscode": {
     "languageId": "r"
    }
   },
   "outputs": [
    {
     "data": {
      "text/html": [
       "<style>\n",
       ".list-inline {list-style: none; margin:0; padding: 0}\n",
       ".list-inline>li {display: inline-block}\n",
       ".list-inline>li:not(:last-child)::after {content: \"\\00b7\"; padding: 0 .5ex}\n",
       "</style>\n",
       "<ol class=list-inline><li>'Afghanistan'</li><li>'Albania'</li><li>'Algeria'</li><li>'Andorra'</li><li>'Angola'</li><li>'Antigua and Barbuda'</li><li>'Argentina'</li><li>'Armenia'</li><li>'Australia'</li><li>'Austria'</li><li>'Azerbaijan'</li><li>'Bahamas'</li><li>'Bahrain'</li><li>'Bangladesh'</li><li>'Barbados'</li><li>'Belarus'</li><li>'Belgium'</li><li>'Belize'</li><li>'Benin'</li><li>'Bhutan'</li><li>'Bolivia'</li><li>'Bosnia and Herzegovina'</li><li>'Botswana'</li><li>'Brazil'</li><li>'Brunei'</li><li>'Bulgaria'</li><li>'Burkina Faso'</li><li>'Burundi'</li><li>'Cambodia'</li><li>'Cameroon'</li><li>'Canada'</li><li>'Chad'</li><li>'Chile'</li><li>'China[c]'</li><li>'Colombia'</li><li>'Costa Rica'</li><li>'Croatia'</li><li>'Cuba'</li><li>'Cyprus[d]'</li><li>'Czechia'</li><li>'Denmark[e]'</li><li>'Djibouti'</li><li>'Dominica'</li><li>'Dominican Republic'</li><li>'DR Congo'</li><li>'Ecuador'</li><li>'Egypt'</li><li>'El Salvador'</li><li>'Equatorial Guinea'</li><li>'Estonia'</li><li>'Eswatini'</li><li>'Ethiopia'</li><li>'Faroe Islands'</li><li>'Fiji'</li><li>'Finland'</li><li>'France[f][g]'</li><li>'Gabon'</li><li>'Gambia'</li><li>'Georgia[h]'</li><li>'Germany'</li><li>'Ghana'</li><li>'Greece'</li><li>'Greenland'</li><li>'Grenada'</li><li>'Guatemala'</li><li>'Guinea'</li><li>'Guinea-Bissau'</li><li>'Guyana'</li><li>'Haiti'</li><li>'Honduras'</li><li>'Hungary'</li><li>'Iceland'</li><li>'India'</li><li>'Indonesia'</li><li>'Iran'</li><li>'Iraq'</li><li>'Ireland'</li><li>'Israel'</li><li>'Italy'</li><li>'Ivory Coast'</li><li>'Jamaica'</li><li>'Japan'</li><li>'Jordan'</li><li>'Kazakhstan'</li><li>'Kenya'</li><li>'Kosovo'</li><li>'Kuwait'</li><li>'Kyrgyzstan'</li><li>'Laos'</li><li>'Latvia'</li><li>'Lebanon'</li><li>'Lesotho'</li><li>'Liberia'</li><li>'Libya'</li><li>'Lithuania'</li><li>'Luxembourg[i]'</li><li>'Madagascar'</li><li>'Malawi'</li><li>'Malaysia'</li><li>'Maldives'</li><li>'Mali'</li><li>'Malta'</li><li>'Mauritania'</li><li>'Mauritius'</li><li>'Mexico'</li><li>'Moldova[j]'</li><li>'Mongolia'</li><li>'Montenegro'</li><li>'Morocco'</li><li>'Mozambique'</li><li>'Myanmar'</li><li>'Namibia'</li><li>'Nepal'</li><li>'Netherlands'</li><li>'New Caledonia'</li><li>'New Zealand'</li><li>'Niger'</li><li>'Nigeria'</li><li>'North Korea'</li><li>'North Macedonia'</li><li>'Northern Cyprus[k]'</li><li>'Norway'</li><li>'Oman'</li><li>'Pakistan'</li><li>'Palestine'</li><li>'Panama'</li><li>'Papua New Guinea'</li><li>'Paraguay'</li><li>'Peru'</li><li>'Philippines'</li><li>'Poland'</li><li>'Portugal'</li><li>'Qatar'</li><li>'Romania'</li><li>'Russia'</li><li>'Rwanda'</li><li>'Saint Kitts and Nevis'</li><li>'Saint Lucia'</li><li>'Saint Vincent'</li><li>'San Marino'</li><li>'Saudi Arabia'</li><li>'Senegal'</li><li>'Serbia'</li><li>'Singapore'</li><li>'Slovakia'</li><li>'Slovenia'</li><li>'South Africa'</li><li>'South Korea'</li><li>'South Sudan'</li><li>'Spain'</li><li>'Sri Lanka'</li><li>'Sudan'</li><li>'Sweden'</li><li>'Switzerland[l]'</li><li>'Taiwan[m]'</li><li>'Tanzania'</li><li>'Thailand'</li><li>'Togo'</li><li>'Trinidad and Tobago'</li><li>'Tunisia'</li><li>'Turkey'</li><li>'Uganda'</li><li>'Ukraine'</li><li>'United Arab Emirates'</li><li>'United Kingdom'</li><li>'United States'</li><li>'Uruguay'</li><li>'Uzbekistan'</li><li>'Venezuela'</li><li>'Vietnam'</li><li>'Zambia'</li><li>'Zimbabwe'</li></ol>\n"
      ],
      "text/latex": [
       "\\begin{enumerate*}\n",
       "\\item 'Afghanistan'\n",
       "\\item 'Albania'\n",
       "\\item 'Algeria'\n",
       "\\item 'Andorra'\n",
       "\\item 'Angola'\n",
       "\\item 'Antigua and Barbuda'\n",
       "\\item 'Argentina'\n",
       "\\item 'Armenia'\n",
       "\\item 'Australia'\n",
       "\\item 'Austria'\n",
       "\\item 'Azerbaijan'\n",
       "\\item 'Bahamas'\n",
       "\\item 'Bahrain'\n",
       "\\item 'Bangladesh'\n",
       "\\item 'Barbados'\n",
       "\\item 'Belarus'\n",
       "\\item 'Belgium'\n",
       "\\item 'Belize'\n",
       "\\item 'Benin'\n",
       "\\item 'Bhutan'\n",
       "\\item 'Bolivia'\n",
       "\\item 'Bosnia and Herzegovina'\n",
       "\\item 'Botswana'\n",
       "\\item 'Brazil'\n",
       "\\item 'Brunei'\n",
       "\\item 'Bulgaria'\n",
       "\\item 'Burkina Faso'\n",
       "\\item 'Burundi'\n",
       "\\item 'Cambodia'\n",
       "\\item 'Cameroon'\n",
       "\\item 'Canada'\n",
       "\\item 'Chad'\n",
       "\\item 'Chile'\n",
       "\\item 'China{[}c{]}'\n",
       "\\item 'Colombia'\n",
       "\\item 'Costa Rica'\n",
       "\\item 'Croatia'\n",
       "\\item 'Cuba'\n",
       "\\item 'Cyprus{[}d{]}'\n",
       "\\item 'Czechia'\n",
       "\\item 'Denmark{[}e{]}'\n",
       "\\item 'Djibouti'\n",
       "\\item 'Dominica'\n",
       "\\item 'Dominican Republic'\n",
       "\\item 'DR Congo'\n",
       "\\item 'Ecuador'\n",
       "\\item 'Egypt'\n",
       "\\item 'El Salvador'\n",
       "\\item 'Equatorial Guinea'\n",
       "\\item 'Estonia'\n",
       "\\item 'Eswatini'\n",
       "\\item 'Ethiopia'\n",
       "\\item 'Faroe Islands'\n",
       "\\item 'Fiji'\n",
       "\\item 'Finland'\n",
       "\\item 'France{[}f{]}{[}g{]}'\n",
       "\\item 'Gabon'\n",
       "\\item 'Gambia'\n",
       "\\item 'Georgia{[}h{]}'\n",
       "\\item 'Germany'\n",
       "\\item 'Ghana'\n",
       "\\item 'Greece'\n",
       "\\item 'Greenland'\n",
       "\\item 'Grenada'\n",
       "\\item 'Guatemala'\n",
       "\\item 'Guinea'\n",
       "\\item 'Guinea-Bissau'\n",
       "\\item 'Guyana'\n",
       "\\item 'Haiti'\n",
       "\\item 'Honduras'\n",
       "\\item 'Hungary'\n",
       "\\item 'Iceland'\n",
       "\\item 'India'\n",
       "\\item 'Indonesia'\n",
       "\\item 'Iran'\n",
       "\\item 'Iraq'\n",
       "\\item 'Ireland'\n",
       "\\item 'Israel'\n",
       "\\item 'Italy'\n",
       "\\item 'Ivory Coast'\n",
       "\\item 'Jamaica'\n",
       "\\item 'Japan'\n",
       "\\item 'Jordan'\n",
       "\\item 'Kazakhstan'\n",
       "\\item 'Kenya'\n",
       "\\item 'Kosovo'\n",
       "\\item 'Kuwait'\n",
       "\\item 'Kyrgyzstan'\n",
       "\\item 'Laos'\n",
       "\\item 'Latvia'\n",
       "\\item 'Lebanon'\n",
       "\\item 'Lesotho'\n",
       "\\item 'Liberia'\n",
       "\\item 'Libya'\n",
       "\\item 'Lithuania'\n",
       "\\item 'Luxembourg{[}i{]}'\n",
       "\\item 'Madagascar'\n",
       "\\item 'Malawi'\n",
       "\\item 'Malaysia'\n",
       "\\item 'Maldives'\n",
       "\\item 'Mali'\n",
       "\\item 'Malta'\n",
       "\\item 'Mauritania'\n",
       "\\item 'Mauritius'\n",
       "\\item 'Mexico'\n",
       "\\item 'Moldova{[}j{]}'\n",
       "\\item 'Mongolia'\n",
       "\\item 'Montenegro'\n",
       "\\item 'Morocco'\n",
       "\\item 'Mozambique'\n",
       "\\item 'Myanmar'\n",
       "\\item 'Namibia'\n",
       "\\item 'Nepal'\n",
       "\\item 'Netherlands'\n",
       "\\item 'New Caledonia'\n",
       "\\item 'New Zealand'\n",
       "\\item 'Niger'\n",
       "\\item 'Nigeria'\n",
       "\\item 'North Korea'\n",
       "\\item 'North Macedonia'\n",
       "\\item 'Northern Cyprus{[}k{]}'\n",
       "\\item 'Norway'\n",
       "\\item 'Oman'\n",
       "\\item 'Pakistan'\n",
       "\\item 'Palestine'\n",
       "\\item 'Panama'\n",
       "\\item 'Papua New Guinea'\n",
       "\\item 'Paraguay'\n",
       "\\item 'Peru'\n",
       "\\item 'Philippines'\n",
       "\\item 'Poland'\n",
       "\\item 'Portugal'\n",
       "\\item 'Qatar'\n",
       "\\item 'Romania'\n",
       "\\item 'Russia'\n",
       "\\item 'Rwanda'\n",
       "\\item 'Saint Kitts and Nevis'\n",
       "\\item 'Saint Lucia'\n",
       "\\item 'Saint Vincent'\n",
       "\\item 'San Marino'\n",
       "\\item 'Saudi Arabia'\n",
       "\\item 'Senegal'\n",
       "\\item 'Serbia'\n",
       "\\item 'Singapore'\n",
       "\\item 'Slovakia'\n",
       "\\item 'Slovenia'\n",
       "\\item 'South Africa'\n",
       "\\item 'South Korea'\n",
       "\\item 'South Sudan'\n",
       "\\item 'Spain'\n",
       "\\item 'Sri Lanka'\n",
       "\\item 'Sudan'\n",
       "\\item 'Sweden'\n",
       "\\item 'Switzerland{[}l{]}'\n",
       "\\item 'Taiwan{[}m{]}'\n",
       "\\item 'Tanzania'\n",
       "\\item 'Thailand'\n",
       "\\item 'Togo'\n",
       "\\item 'Trinidad and Tobago'\n",
       "\\item 'Tunisia'\n",
       "\\item 'Turkey'\n",
       "\\item 'Uganda'\n",
       "\\item 'Ukraine'\n",
       "\\item 'United Arab Emirates'\n",
       "\\item 'United Kingdom'\n",
       "\\item 'United States'\n",
       "\\item 'Uruguay'\n",
       "\\item 'Uzbekistan'\n",
       "\\item 'Venezuela'\n",
       "\\item 'Vietnam'\n",
       "\\item 'Zambia'\n",
       "\\item 'Zimbabwe'\n",
       "\\end{enumerate*}\n"
      ],
      "text/markdown": [
       "1. 'Afghanistan'\n",
       "2. 'Albania'\n",
       "3. 'Algeria'\n",
       "4. 'Andorra'\n",
       "5. 'Angola'\n",
       "6. 'Antigua and Barbuda'\n",
       "7. 'Argentina'\n",
       "8. 'Armenia'\n",
       "9. 'Australia'\n",
       "10. 'Austria'\n",
       "11. 'Azerbaijan'\n",
       "12. 'Bahamas'\n",
       "13. 'Bahrain'\n",
       "14. 'Bangladesh'\n",
       "15. 'Barbados'\n",
       "16. 'Belarus'\n",
       "17. 'Belgium'\n",
       "18. 'Belize'\n",
       "19. 'Benin'\n",
       "20. 'Bhutan'\n",
       "21. 'Bolivia'\n",
       "22. 'Bosnia and Herzegovina'\n",
       "23. 'Botswana'\n",
       "24. 'Brazil'\n",
       "25. 'Brunei'\n",
       "26. 'Bulgaria'\n",
       "27. 'Burkina Faso'\n",
       "28. 'Burundi'\n",
       "29. 'Cambodia'\n",
       "30. 'Cameroon'\n",
       "31. 'Canada'\n",
       "32. 'Chad'\n",
       "33. 'Chile'\n",
       "34. 'China[c]'\n",
       "35. 'Colombia'\n",
       "36. 'Costa Rica'\n",
       "37. 'Croatia'\n",
       "38. 'Cuba'\n",
       "39. 'Cyprus[d]'\n",
       "40. 'Czechia'\n",
       "41. 'Denmark[e]'\n",
       "42. 'Djibouti'\n",
       "43. 'Dominica'\n",
       "44. 'Dominican Republic'\n",
       "45. 'DR Congo'\n",
       "46. 'Ecuador'\n",
       "47. 'Egypt'\n",
       "48. 'El Salvador'\n",
       "49. 'Equatorial Guinea'\n",
       "50. 'Estonia'\n",
       "51. 'Eswatini'\n",
       "52. 'Ethiopia'\n",
       "53. 'Faroe Islands'\n",
       "54. 'Fiji'\n",
       "55. 'Finland'\n",
       "56. 'France[f][g]'\n",
       "57. 'Gabon'\n",
       "58. 'Gambia'\n",
       "59. 'Georgia[h]'\n",
       "60. 'Germany'\n",
       "61. 'Ghana'\n",
       "62. 'Greece'\n",
       "63. 'Greenland'\n",
       "64. 'Grenada'\n",
       "65. 'Guatemala'\n",
       "66. 'Guinea'\n",
       "67. 'Guinea-Bissau'\n",
       "68. 'Guyana'\n",
       "69. 'Haiti'\n",
       "70. 'Honduras'\n",
       "71. 'Hungary'\n",
       "72. 'Iceland'\n",
       "73. 'India'\n",
       "74. 'Indonesia'\n",
       "75. 'Iran'\n",
       "76. 'Iraq'\n",
       "77. 'Ireland'\n",
       "78. 'Israel'\n",
       "79. 'Italy'\n",
       "80. 'Ivory Coast'\n",
       "81. 'Jamaica'\n",
       "82. 'Japan'\n",
       "83. 'Jordan'\n",
       "84. 'Kazakhstan'\n",
       "85. 'Kenya'\n",
       "86. 'Kosovo'\n",
       "87. 'Kuwait'\n",
       "88. 'Kyrgyzstan'\n",
       "89. 'Laos'\n",
       "90. 'Latvia'\n",
       "91. 'Lebanon'\n",
       "92. 'Lesotho'\n",
       "93. 'Liberia'\n",
       "94. 'Libya'\n",
       "95. 'Lithuania'\n",
       "96. 'Luxembourg[i]'\n",
       "97. 'Madagascar'\n",
       "98. 'Malawi'\n",
       "99. 'Malaysia'\n",
       "100. 'Maldives'\n",
       "101. 'Mali'\n",
       "102. 'Malta'\n",
       "103. 'Mauritania'\n",
       "104. 'Mauritius'\n",
       "105. 'Mexico'\n",
       "106. 'Moldova[j]'\n",
       "107. 'Mongolia'\n",
       "108. 'Montenegro'\n",
       "109. 'Morocco'\n",
       "110. 'Mozambique'\n",
       "111. 'Myanmar'\n",
       "112. 'Namibia'\n",
       "113. 'Nepal'\n",
       "114. 'Netherlands'\n",
       "115. 'New Caledonia'\n",
       "116. 'New Zealand'\n",
       "117. 'Niger'\n",
       "118. 'Nigeria'\n",
       "119. 'North Korea'\n",
       "120. 'North Macedonia'\n",
       "121. 'Northern Cyprus[k]'\n",
       "122. 'Norway'\n",
       "123. 'Oman'\n",
       "124. 'Pakistan'\n",
       "125. 'Palestine'\n",
       "126. 'Panama'\n",
       "127. 'Papua New Guinea'\n",
       "128. 'Paraguay'\n",
       "129. 'Peru'\n",
       "130. 'Philippines'\n",
       "131. 'Poland'\n",
       "132. 'Portugal'\n",
       "133. 'Qatar'\n",
       "134. 'Romania'\n",
       "135. 'Russia'\n",
       "136. 'Rwanda'\n",
       "137. 'Saint Kitts and Nevis'\n",
       "138. 'Saint Lucia'\n",
       "139. 'Saint Vincent'\n",
       "140. 'San Marino'\n",
       "141. 'Saudi Arabia'\n",
       "142. 'Senegal'\n",
       "143. 'Serbia'\n",
       "144. 'Singapore'\n",
       "145. 'Slovakia'\n",
       "146. 'Slovenia'\n",
       "147. 'South Africa'\n",
       "148. 'South Korea'\n",
       "149. 'South Sudan'\n",
       "150. 'Spain'\n",
       "151. 'Sri Lanka'\n",
       "152. 'Sudan'\n",
       "153. 'Sweden'\n",
       "154. 'Switzerland[l]'\n",
       "155. 'Taiwan[m]'\n",
       "156. 'Tanzania'\n",
       "157. 'Thailand'\n",
       "158. 'Togo'\n",
       "159. 'Trinidad and Tobago'\n",
       "160. 'Tunisia'\n",
       "161. 'Turkey'\n",
       "162. 'Uganda'\n",
       "163. 'Ukraine'\n",
       "164. 'United Arab Emirates'\n",
       "165. 'United Kingdom'\n",
       "166. 'United States'\n",
       "167. 'Uruguay'\n",
       "168. 'Uzbekistan'\n",
       "169. 'Venezuela'\n",
       "170. 'Vietnam'\n",
       "171. 'Zambia'\n",
       "172. 'Zimbabwe'\n",
       "\n",
       "\n"
      ],
      "text/plain": [
       "  [1] \"Afghanistan\"            \"Albania\"                \"Algeria\"               \n",
       "  [4] \"Andorra\"                \"Angola\"                 \"Antigua and Barbuda\"   \n",
       "  [7] \"Argentina\"              \"Armenia\"                \"Australia\"             \n",
       " [10] \"Austria\"                \"Azerbaijan\"             \"Bahamas\"               \n",
       " [13] \"Bahrain\"                \"Bangladesh\"             \"Barbados\"              \n",
       " [16] \"Belarus\"                \"Belgium\"                \"Belize\"                \n",
       " [19] \"Benin\"                  \"Bhutan\"                 \"Bolivia\"               \n",
       " [22] \"Bosnia and Herzegovina\" \"Botswana\"               \"Brazil\"                \n",
       " [25] \"Brunei\"                 \"Bulgaria\"               \"Burkina Faso\"          \n",
       " [28] \"Burundi\"                \"Cambodia\"               \"Cameroon\"              \n",
       " [31] \"Canada\"                 \"Chad\"                   \"Chile\"                 \n",
       " [34] \"China[c]\"               \"Colombia\"               \"Costa Rica\"            \n",
       " [37] \"Croatia\"                \"Cuba\"                   \"Cyprus[d]\"             \n",
       " [40] \"Czechia\"                \"Denmark[e]\"             \"Djibouti\"              \n",
       " [43] \"Dominica\"               \"Dominican Republic\"     \"DR Congo\"              \n",
       " [46] \"Ecuador\"                \"Egypt\"                  \"El Salvador\"           \n",
       " [49] \"Equatorial Guinea\"      \"Estonia\"                \"Eswatini\"              \n",
       " [52] \"Ethiopia\"               \"Faroe Islands\"          \"Fiji\"                  \n",
       " [55] \"Finland\"                \"France[f][g]\"           \"Gabon\"                 \n",
       " [58] \"Gambia\"                 \"Georgia[h]\"             \"Germany\"               \n",
       " [61] \"Ghana\"                  \"Greece\"                 \"Greenland\"             \n",
       " [64] \"Grenada\"                \"Guatemala\"              \"Guinea\"                \n",
       " [67] \"Guinea-Bissau\"          \"Guyana\"                 \"Haiti\"                 \n",
       " [70] \"Honduras\"               \"Hungary\"                \"Iceland\"               \n",
       " [73] \"India\"                  \"Indonesia\"              \"Iran\"                  \n",
       " [76] \"Iraq\"                   \"Ireland\"                \"Israel\"                \n",
       " [79] \"Italy\"                  \"Ivory Coast\"            \"Jamaica\"               \n",
       " [82] \"Japan\"                  \"Jordan\"                 \"Kazakhstan\"            \n",
       " [85] \"Kenya\"                  \"Kosovo\"                 \"Kuwait\"                \n",
       " [88] \"Kyrgyzstan\"             \"Laos\"                   \"Latvia\"                \n",
       " [91] \"Lebanon\"                \"Lesotho\"                \"Liberia\"               \n",
       " [94] \"Libya\"                  \"Lithuania\"              \"Luxembourg[i]\"         \n",
       " [97] \"Madagascar\"             \"Malawi\"                 \"Malaysia\"              \n",
       "[100] \"Maldives\"               \"Mali\"                   \"Malta\"                 \n",
       "[103] \"Mauritania\"             \"Mauritius\"              \"Mexico\"                \n",
       "[106] \"Moldova[j]\"             \"Mongolia\"               \"Montenegro\"            \n",
       "[109] \"Morocco\"                \"Mozambique\"             \"Myanmar\"               \n",
       "[112] \"Namibia\"                \"Nepal\"                  \"Netherlands\"           \n",
       "[115] \"New Caledonia\"          \"New Zealand\"            \"Niger\"                 \n",
       "[118] \"Nigeria\"                \"North Korea\"            \"North Macedonia\"       \n",
       "[121] \"Northern Cyprus[k]\"     \"Norway\"                 \"Oman\"                  \n",
       "[124] \"Pakistan\"               \"Palestine\"              \"Panama\"                \n",
       "[127] \"Papua New Guinea\"       \"Paraguay\"               \"Peru\"                  \n",
       "[130] \"Philippines\"            \"Poland\"                 \"Portugal\"              \n",
       "[133] \"Qatar\"                  \"Romania\"                \"Russia\"                \n",
       "[136] \"Rwanda\"                 \"Saint Kitts and Nevis\"  \"Saint Lucia\"           \n",
       "[139] \"Saint Vincent\"          \"San Marino\"             \"Saudi Arabia\"          \n",
       "[142] \"Senegal\"                \"Serbia\"                 \"Singapore\"             \n",
       "[145] \"Slovakia\"               \"Slovenia\"               \"South Africa\"          \n",
       "[148] \"South Korea\"            \"South Sudan\"            \"Spain\"                 \n",
       "[151] \"Sri Lanka\"              \"Sudan\"                  \"Sweden\"                \n",
       "[154] \"Switzerland[l]\"         \"Taiwan[m]\"              \"Tanzania\"              \n",
       "[157] \"Thailand\"               \"Togo\"                   \"Trinidad and Tobago\"   \n",
       "[160] \"Tunisia\"                \"Turkey\"                 \"Uganda\"                \n",
       "[163] \"Ukraine\"                \"United Arab Emirates\"   \"United Kingdom\"        \n",
       "[166] \"United States\"          \"Uruguay\"                \"Uzbekistan\"            \n",
       "[169] \"Venezuela\"              \"Vietnam\"                \"Zambia\"                \n",
       "[172] \"Zimbabwe\"              "
      ]
     },
     "metadata": {},
     "output_type": "display_data"
    }
   ],
   "source": [
    "# Conver the country column into character so that you can easily sort them\n",
    "\n",
    "# Sort the countries AtoZ\n",
    "country_AtoZ <- sort(country_col, decreasing = FALSE)\n",
    "country_AtoZ"
   ]
  },
  {
   "cell_type": "code",
   "execution_count": 21,
   "metadata": {
    "vscode": {
     "languageId": "r"
    }
   },
   "outputs": [
    {
     "data": {
      "text/html": [
       "<style>\n",
       ".list-inline {list-style: none; margin:0; padding: 0}\n",
       ".list-inline>li {display: inline-block}\n",
       ".list-inline>li:not(:last-child)::after {content: \"\\00b7\"; padding: 0 .5ex}\n",
       "</style>\n",
       "<ol class=list-inline><li>'Zimbabwe'</li><li>'Zambia'</li><li>'Vietnam'</li><li>'Venezuela'</li><li>'Uzbekistan'</li><li>'Uruguay'</li><li>'United States'</li><li>'United Kingdom'</li><li>'United Arab Emirates'</li><li>'Ukraine'</li><li>'Uganda'</li><li>'Turkey'</li><li>'Tunisia'</li><li>'Trinidad and Tobago'</li><li>'Togo'</li><li>'Thailand'</li><li>'Tanzania'</li><li>'Taiwan[m]'</li><li>'Switzerland[l]'</li><li>'Sweden'</li><li>'Sudan'</li><li>'Sri Lanka'</li><li>'Spain'</li><li>'South Sudan'</li><li>'South Korea'</li><li>'South Africa'</li><li>'Slovenia'</li><li>'Slovakia'</li><li>'Singapore'</li><li>'Serbia'</li><li>'Senegal'</li><li>'Saudi Arabia'</li><li>'San Marino'</li><li>'Saint Vincent'</li><li>'Saint Lucia'</li><li>'Saint Kitts and Nevis'</li><li>'Rwanda'</li><li>'Russia'</li><li>'Romania'</li><li>'Qatar'</li><li>'Portugal'</li><li>'Poland'</li><li>'Philippines'</li><li>'Peru'</li><li>'Paraguay'</li><li>'Papua New Guinea'</li><li>'Panama'</li><li>'Palestine'</li><li>'Pakistan'</li><li>'Oman'</li><li>'Norway'</li><li>'Northern Cyprus[k]'</li><li>'North Macedonia'</li><li>'North Korea'</li><li>'Nigeria'</li><li>'Niger'</li><li>'New Zealand'</li><li>'New Caledonia'</li><li>'Netherlands'</li><li>'Nepal'</li><li>'Namibia'</li><li>'Myanmar'</li><li>'Mozambique'</li><li>'Morocco'</li><li>'Montenegro'</li><li>'Mongolia'</li><li>'Moldova[j]'</li><li>'Mexico'</li><li>'Mauritius'</li><li>'Mauritania'</li><li>'Malta'</li><li>'Mali'</li><li>'Maldives'</li><li>'Malaysia'</li><li>'Malawi'</li><li>'Madagascar'</li><li>'Luxembourg[i]'</li><li>'Lithuania'</li><li>'Libya'</li><li>'Liberia'</li><li>'Lesotho'</li><li>'Lebanon'</li><li>'Latvia'</li><li>'Laos'</li><li>'Kyrgyzstan'</li><li>'Kuwait'</li><li>'Kosovo'</li><li>'Kenya'</li><li>'Kazakhstan'</li><li>'Jordan'</li><li>'Japan'</li><li>'Jamaica'</li><li>'Ivory Coast'</li><li>'Italy'</li><li>'Israel'</li><li>'Ireland'</li><li>'Iraq'</li><li>'Iran'</li><li>'Indonesia'</li><li>'India'</li><li>'Iceland'</li><li>'Hungary'</li><li>'Honduras'</li><li>'Haiti'</li><li>'Guyana'</li><li>'Guinea-Bissau'</li><li>'Guinea'</li><li>'Guatemala'</li><li>'Grenada'</li><li>'Greenland'</li><li>'Greece'</li><li>'Ghana'</li><li>'Germany'</li><li>'Georgia[h]'</li><li>'Gambia'</li><li>'Gabon'</li><li>'France[f][g]'</li><li>'Finland'</li><li>'Fiji'</li><li>'Faroe Islands'</li><li>'Ethiopia'</li><li>'Eswatini'</li><li>'Estonia'</li><li>'Equatorial Guinea'</li><li>'El Salvador'</li><li>'Egypt'</li><li>'Ecuador'</li><li>'DR Congo'</li><li>'Dominican Republic'</li><li>'Dominica'</li><li>'Djibouti'</li><li>'Denmark[e]'</li><li>'Czechia'</li><li>'Cyprus[d]'</li><li>'Cuba'</li><li>'Croatia'</li><li>'Costa Rica'</li><li>'Colombia'</li><li>'China[c]'</li><li>'Chile'</li><li>'Chad'</li><li>'Canada'</li><li>'Cameroon'</li><li>'Cambodia'</li><li>'Burundi'</li><li>'Burkina Faso'</li><li>'Bulgaria'</li><li>'Brunei'</li><li>'Brazil'</li><li>'Botswana'</li><li>'Bosnia and Herzegovina'</li><li>'Bolivia'</li><li>'Bhutan'</li><li>'Benin'</li><li>'Belize'</li><li>'Belgium'</li><li>'Belarus'</li><li>'Barbados'</li><li>'Bangladesh'</li><li>'Bahrain'</li><li>'Bahamas'</li><li>'Azerbaijan'</li><li>'Austria'</li><li>'Australia'</li><li>'Armenia'</li><li>'Argentina'</li><li>'Antigua and Barbuda'</li><li>'Angola'</li><li>'Andorra'</li><li>'Algeria'</li><li>'Albania'</li><li>'Afghanistan'</li></ol>\n"
      ],
      "text/latex": [
       "\\begin{enumerate*}\n",
       "\\item 'Zimbabwe'\n",
       "\\item 'Zambia'\n",
       "\\item 'Vietnam'\n",
       "\\item 'Venezuela'\n",
       "\\item 'Uzbekistan'\n",
       "\\item 'Uruguay'\n",
       "\\item 'United States'\n",
       "\\item 'United Kingdom'\n",
       "\\item 'United Arab Emirates'\n",
       "\\item 'Ukraine'\n",
       "\\item 'Uganda'\n",
       "\\item 'Turkey'\n",
       "\\item 'Tunisia'\n",
       "\\item 'Trinidad and Tobago'\n",
       "\\item 'Togo'\n",
       "\\item 'Thailand'\n",
       "\\item 'Tanzania'\n",
       "\\item 'Taiwan{[}m{]}'\n",
       "\\item 'Switzerland{[}l{]}'\n",
       "\\item 'Sweden'\n",
       "\\item 'Sudan'\n",
       "\\item 'Sri Lanka'\n",
       "\\item 'Spain'\n",
       "\\item 'South Sudan'\n",
       "\\item 'South Korea'\n",
       "\\item 'South Africa'\n",
       "\\item 'Slovenia'\n",
       "\\item 'Slovakia'\n",
       "\\item 'Singapore'\n",
       "\\item 'Serbia'\n",
       "\\item 'Senegal'\n",
       "\\item 'Saudi Arabia'\n",
       "\\item 'San Marino'\n",
       "\\item 'Saint Vincent'\n",
       "\\item 'Saint Lucia'\n",
       "\\item 'Saint Kitts and Nevis'\n",
       "\\item 'Rwanda'\n",
       "\\item 'Russia'\n",
       "\\item 'Romania'\n",
       "\\item 'Qatar'\n",
       "\\item 'Portugal'\n",
       "\\item 'Poland'\n",
       "\\item 'Philippines'\n",
       "\\item 'Peru'\n",
       "\\item 'Paraguay'\n",
       "\\item 'Papua New Guinea'\n",
       "\\item 'Panama'\n",
       "\\item 'Palestine'\n",
       "\\item 'Pakistan'\n",
       "\\item 'Oman'\n",
       "\\item 'Norway'\n",
       "\\item 'Northern Cyprus{[}k{]}'\n",
       "\\item 'North Macedonia'\n",
       "\\item 'North Korea'\n",
       "\\item 'Nigeria'\n",
       "\\item 'Niger'\n",
       "\\item 'New Zealand'\n",
       "\\item 'New Caledonia'\n",
       "\\item 'Netherlands'\n",
       "\\item 'Nepal'\n",
       "\\item 'Namibia'\n",
       "\\item 'Myanmar'\n",
       "\\item 'Mozambique'\n",
       "\\item 'Morocco'\n",
       "\\item 'Montenegro'\n",
       "\\item 'Mongolia'\n",
       "\\item 'Moldova{[}j{]}'\n",
       "\\item 'Mexico'\n",
       "\\item 'Mauritius'\n",
       "\\item 'Mauritania'\n",
       "\\item 'Malta'\n",
       "\\item 'Mali'\n",
       "\\item 'Maldives'\n",
       "\\item 'Malaysia'\n",
       "\\item 'Malawi'\n",
       "\\item 'Madagascar'\n",
       "\\item 'Luxembourg{[}i{]}'\n",
       "\\item 'Lithuania'\n",
       "\\item 'Libya'\n",
       "\\item 'Liberia'\n",
       "\\item 'Lesotho'\n",
       "\\item 'Lebanon'\n",
       "\\item 'Latvia'\n",
       "\\item 'Laos'\n",
       "\\item 'Kyrgyzstan'\n",
       "\\item 'Kuwait'\n",
       "\\item 'Kosovo'\n",
       "\\item 'Kenya'\n",
       "\\item 'Kazakhstan'\n",
       "\\item 'Jordan'\n",
       "\\item 'Japan'\n",
       "\\item 'Jamaica'\n",
       "\\item 'Ivory Coast'\n",
       "\\item 'Italy'\n",
       "\\item 'Israel'\n",
       "\\item 'Ireland'\n",
       "\\item 'Iraq'\n",
       "\\item 'Iran'\n",
       "\\item 'Indonesia'\n",
       "\\item 'India'\n",
       "\\item 'Iceland'\n",
       "\\item 'Hungary'\n",
       "\\item 'Honduras'\n",
       "\\item 'Haiti'\n",
       "\\item 'Guyana'\n",
       "\\item 'Guinea-Bissau'\n",
       "\\item 'Guinea'\n",
       "\\item 'Guatemala'\n",
       "\\item 'Grenada'\n",
       "\\item 'Greenland'\n",
       "\\item 'Greece'\n",
       "\\item 'Ghana'\n",
       "\\item 'Germany'\n",
       "\\item 'Georgia{[}h{]}'\n",
       "\\item 'Gambia'\n",
       "\\item 'Gabon'\n",
       "\\item 'France{[}f{]}{[}g{]}'\n",
       "\\item 'Finland'\n",
       "\\item 'Fiji'\n",
       "\\item 'Faroe Islands'\n",
       "\\item 'Ethiopia'\n",
       "\\item 'Eswatini'\n",
       "\\item 'Estonia'\n",
       "\\item 'Equatorial Guinea'\n",
       "\\item 'El Salvador'\n",
       "\\item 'Egypt'\n",
       "\\item 'Ecuador'\n",
       "\\item 'DR Congo'\n",
       "\\item 'Dominican Republic'\n",
       "\\item 'Dominica'\n",
       "\\item 'Djibouti'\n",
       "\\item 'Denmark{[}e{]}'\n",
       "\\item 'Czechia'\n",
       "\\item 'Cyprus{[}d{]}'\n",
       "\\item 'Cuba'\n",
       "\\item 'Croatia'\n",
       "\\item 'Costa Rica'\n",
       "\\item 'Colombia'\n",
       "\\item 'China{[}c{]}'\n",
       "\\item 'Chile'\n",
       "\\item 'Chad'\n",
       "\\item 'Canada'\n",
       "\\item 'Cameroon'\n",
       "\\item 'Cambodia'\n",
       "\\item 'Burundi'\n",
       "\\item 'Burkina Faso'\n",
       "\\item 'Bulgaria'\n",
       "\\item 'Brunei'\n",
       "\\item 'Brazil'\n",
       "\\item 'Botswana'\n",
       "\\item 'Bosnia and Herzegovina'\n",
       "\\item 'Bolivia'\n",
       "\\item 'Bhutan'\n",
       "\\item 'Benin'\n",
       "\\item 'Belize'\n",
       "\\item 'Belgium'\n",
       "\\item 'Belarus'\n",
       "\\item 'Barbados'\n",
       "\\item 'Bangladesh'\n",
       "\\item 'Bahrain'\n",
       "\\item 'Bahamas'\n",
       "\\item 'Azerbaijan'\n",
       "\\item 'Austria'\n",
       "\\item 'Australia'\n",
       "\\item 'Armenia'\n",
       "\\item 'Argentina'\n",
       "\\item 'Antigua and Barbuda'\n",
       "\\item 'Angola'\n",
       "\\item 'Andorra'\n",
       "\\item 'Algeria'\n",
       "\\item 'Albania'\n",
       "\\item 'Afghanistan'\n",
       "\\end{enumerate*}\n"
      ],
      "text/markdown": [
       "1. 'Zimbabwe'\n",
       "2. 'Zambia'\n",
       "3. 'Vietnam'\n",
       "4. 'Venezuela'\n",
       "5. 'Uzbekistan'\n",
       "6. 'Uruguay'\n",
       "7. 'United States'\n",
       "8. 'United Kingdom'\n",
       "9. 'United Arab Emirates'\n",
       "10. 'Ukraine'\n",
       "11. 'Uganda'\n",
       "12. 'Turkey'\n",
       "13. 'Tunisia'\n",
       "14. 'Trinidad and Tobago'\n",
       "15. 'Togo'\n",
       "16. 'Thailand'\n",
       "17. 'Tanzania'\n",
       "18. 'Taiwan[m]'\n",
       "19. 'Switzerland[l]'\n",
       "20. 'Sweden'\n",
       "21. 'Sudan'\n",
       "22. 'Sri Lanka'\n",
       "23. 'Spain'\n",
       "24. 'South Sudan'\n",
       "25. 'South Korea'\n",
       "26. 'South Africa'\n",
       "27. 'Slovenia'\n",
       "28. 'Slovakia'\n",
       "29. 'Singapore'\n",
       "30. 'Serbia'\n",
       "31. 'Senegal'\n",
       "32. 'Saudi Arabia'\n",
       "33. 'San Marino'\n",
       "34. 'Saint Vincent'\n",
       "35. 'Saint Lucia'\n",
       "36. 'Saint Kitts and Nevis'\n",
       "37. 'Rwanda'\n",
       "38. 'Russia'\n",
       "39. 'Romania'\n",
       "40. 'Qatar'\n",
       "41. 'Portugal'\n",
       "42. 'Poland'\n",
       "43. 'Philippines'\n",
       "44. 'Peru'\n",
       "45. 'Paraguay'\n",
       "46. 'Papua New Guinea'\n",
       "47. 'Panama'\n",
       "48. 'Palestine'\n",
       "49. 'Pakistan'\n",
       "50. 'Oman'\n",
       "51. 'Norway'\n",
       "52. 'Northern Cyprus[k]'\n",
       "53. 'North Macedonia'\n",
       "54. 'North Korea'\n",
       "55. 'Nigeria'\n",
       "56. 'Niger'\n",
       "57. 'New Zealand'\n",
       "58. 'New Caledonia'\n",
       "59. 'Netherlands'\n",
       "60. 'Nepal'\n",
       "61. 'Namibia'\n",
       "62. 'Myanmar'\n",
       "63. 'Mozambique'\n",
       "64. 'Morocco'\n",
       "65. 'Montenegro'\n",
       "66. 'Mongolia'\n",
       "67. 'Moldova[j]'\n",
       "68. 'Mexico'\n",
       "69. 'Mauritius'\n",
       "70. 'Mauritania'\n",
       "71. 'Malta'\n",
       "72. 'Mali'\n",
       "73. 'Maldives'\n",
       "74. 'Malaysia'\n",
       "75. 'Malawi'\n",
       "76. 'Madagascar'\n",
       "77. 'Luxembourg[i]'\n",
       "78. 'Lithuania'\n",
       "79. 'Libya'\n",
       "80. 'Liberia'\n",
       "81. 'Lesotho'\n",
       "82. 'Lebanon'\n",
       "83. 'Latvia'\n",
       "84. 'Laos'\n",
       "85. 'Kyrgyzstan'\n",
       "86. 'Kuwait'\n",
       "87. 'Kosovo'\n",
       "88. 'Kenya'\n",
       "89. 'Kazakhstan'\n",
       "90. 'Jordan'\n",
       "91. 'Japan'\n",
       "92. 'Jamaica'\n",
       "93. 'Ivory Coast'\n",
       "94. 'Italy'\n",
       "95. 'Israel'\n",
       "96. 'Ireland'\n",
       "97. 'Iraq'\n",
       "98. 'Iran'\n",
       "99. 'Indonesia'\n",
       "100. 'India'\n",
       "101. 'Iceland'\n",
       "102. 'Hungary'\n",
       "103. 'Honduras'\n",
       "104. 'Haiti'\n",
       "105. 'Guyana'\n",
       "106. 'Guinea-Bissau'\n",
       "107. 'Guinea'\n",
       "108. 'Guatemala'\n",
       "109. 'Grenada'\n",
       "110. 'Greenland'\n",
       "111. 'Greece'\n",
       "112. 'Ghana'\n",
       "113. 'Germany'\n",
       "114. 'Georgia[h]'\n",
       "115. 'Gambia'\n",
       "116. 'Gabon'\n",
       "117. 'France[f][g]'\n",
       "118. 'Finland'\n",
       "119. 'Fiji'\n",
       "120. 'Faroe Islands'\n",
       "121. 'Ethiopia'\n",
       "122. 'Eswatini'\n",
       "123. 'Estonia'\n",
       "124. 'Equatorial Guinea'\n",
       "125. 'El Salvador'\n",
       "126. 'Egypt'\n",
       "127. 'Ecuador'\n",
       "128. 'DR Congo'\n",
       "129. 'Dominican Republic'\n",
       "130. 'Dominica'\n",
       "131. 'Djibouti'\n",
       "132. 'Denmark[e]'\n",
       "133. 'Czechia'\n",
       "134. 'Cyprus[d]'\n",
       "135. 'Cuba'\n",
       "136. 'Croatia'\n",
       "137. 'Costa Rica'\n",
       "138. 'Colombia'\n",
       "139. 'China[c]'\n",
       "140. 'Chile'\n",
       "141. 'Chad'\n",
       "142. 'Canada'\n",
       "143. 'Cameroon'\n",
       "144. 'Cambodia'\n",
       "145. 'Burundi'\n",
       "146. 'Burkina Faso'\n",
       "147. 'Bulgaria'\n",
       "148. 'Brunei'\n",
       "149. 'Brazil'\n",
       "150. 'Botswana'\n",
       "151. 'Bosnia and Herzegovina'\n",
       "152. 'Bolivia'\n",
       "153. 'Bhutan'\n",
       "154. 'Benin'\n",
       "155. 'Belize'\n",
       "156. 'Belgium'\n",
       "157. 'Belarus'\n",
       "158. 'Barbados'\n",
       "159. 'Bangladesh'\n",
       "160. 'Bahrain'\n",
       "161. 'Bahamas'\n",
       "162. 'Azerbaijan'\n",
       "163. 'Austria'\n",
       "164. 'Australia'\n",
       "165. 'Armenia'\n",
       "166. 'Argentina'\n",
       "167. 'Antigua and Barbuda'\n",
       "168. 'Angola'\n",
       "169. 'Andorra'\n",
       "170. 'Algeria'\n",
       "171. 'Albania'\n",
       "172. 'Afghanistan'\n",
       "\n",
       "\n"
      ],
      "text/plain": [
       "  [1] \"Zimbabwe\"               \"Zambia\"                 \"Vietnam\"               \n",
       "  [4] \"Venezuela\"              \"Uzbekistan\"             \"Uruguay\"               \n",
       "  [7] \"United States\"          \"United Kingdom\"         \"United Arab Emirates\"  \n",
       " [10] \"Ukraine\"                \"Uganda\"                 \"Turkey\"                \n",
       " [13] \"Tunisia\"                \"Trinidad and Tobago\"    \"Togo\"                  \n",
       " [16] \"Thailand\"               \"Tanzania\"               \"Taiwan[m]\"             \n",
       " [19] \"Switzerland[l]\"         \"Sweden\"                 \"Sudan\"                 \n",
       " [22] \"Sri Lanka\"              \"Spain\"                  \"South Sudan\"           \n",
       " [25] \"South Korea\"            \"South Africa\"           \"Slovenia\"              \n",
       " [28] \"Slovakia\"               \"Singapore\"              \"Serbia\"                \n",
       " [31] \"Senegal\"                \"Saudi Arabia\"           \"San Marino\"            \n",
       " [34] \"Saint Vincent\"          \"Saint Lucia\"            \"Saint Kitts and Nevis\" \n",
       " [37] \"Rwanda\"                 \"Russia\"                 \"Romania\"               \n",
       " [40] \"Qatar\"                  \"Portugal\"               \"Poland\"                \n",
       " [43] \"Philippines\"            \"Peru\"                   \"Paraguay\"              \n",
       " [46] \"Papua New Guinea\"       \"Panama\"                 \"Palestine\"             \n",
       " [49] \"Pakistan\"               \"Oman\"                   \"Norway\"                \n",
       " [52] \"Northern Cyprus[k]\"     \"North Macedonia\"        \"North Korea\"           \n",
       " [55] \"Nigeria\"                \"Niger\"                  \"New Zealand\"           \n",
       " [58] \"New Caledonia\"          \"Netherlands\"            \"Nepal\"                 \n",
       " [61] \"Namibia\"                \"Myanmar\"                \"Mozambique\"            \n",
       " [64] \"Morocco\"                \"Montenegro\"             \"Mongolia\"              \n",
       " [67] \"Moldova[j]\"             \"Mexico\"                 \"Mauritius\"             \n",
       " [70] \"Mauritania\"             \"Malta\"                  \"Mali\"                  \n",
       " [73] \"Maldives\"               \"Malaysia\"               \"Malawi\"                \n",
       " [76] \"Madagascar\"             \"Luxembourg[i]\"          \"Lithuania\"             \n",
       " [79] \"Libya\"                  \"Liberia\"                \"Lesotho\"               \n",
       " [82] \"Lebanon\"                \"Latvia\"                 \"Laos\"                  \n",
       " [85] \"Kyrgyzstan\"             \"Kuwait\"                 \"Kosovo\"                \n",
       " [88] \"Kenya\"                  \"Kazakhstan\"             \"Jordan\"                \n",
       " [91] \"Japan\"                  \"Jamaica\"                \"Ivory Coast\"           \n",
       " [94] \"Italy\"                  \"Israel\"                 \"Ireland\"               \n",
       " [97] \"Iraq\"                   \"Iran\"                   \"Indonesia\"             \n",
       "[100] \"India\"                  \"Iceland\"                \"Hungary\"               \n",
       "[103] \"Honduras\"               \"Haiti\"                  \"Guyana\"                \n",
       "[106] \"Guinea-Bissau\"          \"Guinea\"                 \"Guatemala\"             \n",
       "[109] \"Grenada\"                \"Greenland\"              \"Greece\"                \n",
       "[112] \"Ghana\"                  \"Germany\"                \"Georgia[h]\"            \n",
       "[115] \"Gambia\"                 \"Gabon\"                  \"France[f][g]\"          \n",
       "[118] \"Finland\"                \"Fiji\"                   \"Faroe Islands\"         \n",
       "[121] \"Ethiopia\"               \"Eswatini\"               \"Estonia\"               \n",
       "[124] \"Equatorial Guinea\"      \"El Salvador\"            \"Egypt\"                 \n",
       "[127] \"Ecuador\"                \"DR Congo\"               \"Dominican Republic\"    \n",
       "[130] \"Dominica\"               \"Djibouti\"               \"Denmark[e]\"            \n",
       "[133] \"Czechia\"                \"Cyprus[d]\"              \"Cuba\"                  \n",
       "[136] \"Croatia\"                \"Costa Rica\"             \"Colombia\"              \n",
       "[139] \"China[c]\"               \"Chile\"                  \"Chad\"                  \n",
       "[142] \"Canada\"                 \"Cameroon\"               \"Cambodia\"              \n",
       "[145] \"Burundi\"                \"Burkina Faso\"           \"Bulgaria\"              \n",
       "[148] \"Brunei\"                 \"Brazil\"                 \"Botswana\"              \n",
       "[151] \"Bosnia and Herzegovina\" \"Bolivia\"                \"Bhutan\"                \n",
       "[154] \"Benin\"                  \"Belize\"                 \"Belgium\"               \n",
       "[157] \"Belarus\"                \"Barbados\"               \"Bangladesh\"            \n",
       "[160] \"Bahrain\"                \"Bahamas\"                \"Azerbaijan\"            \n",
       "[163] \"Austria\"                \"Australia\"              \"Armenia\"               \n",
       "[166] \"Argentina\"              \"Antigua and Barbuda\"    \"Angola\"                \n",
       "[169] \"Andorra\"                \"Algeria\"                \"Albania\"               \n",
       "[172] \"Afghanistan\"           "
      ]
     },
     "metadata": {},
     "output_type": "display_data"
    }
   ],
   "source": [
    "# Sort the countries ZtoA\n",
    "country_ZtoA <- sort(country_col, decreasing = TRUE)\n",
    "# Print the sorted ZtoA list\n",
    "country_ZtoA"
   ]
  },
  {
   "cell_type": "markdown",
   "metadata": {},
   "source": [
    "## TASK 7: Identify countries names with a specific pattern\n",
    "\n",
    "The goal of task 7 is using a regular expression to find any countires start with `United`\n"
   ]
  },
  {
   "cell_type": "code",
   "execution_count": 22,
   "metadata": {
    "vscode": {
     "languageId": "r"
    }
   },
   "outputs": [
    {
     "data": {
      "text/html": [
       "<style>\n",
       ".list-inline {list-style: none; margin:0; padding: 0}\n",
       ".list-inline>li {display: inline-block}\n",
       ".list-inline>li:not(:last-child)::after {content: \"\\00b7\"; padding: 0 .5ex}\n",
       "</style>\n",
       "<ol class=list-inline><li>'United Arab Emirates'</li><li>'United Kingdom'</li><li>'United States'</li></ol>\n"
      ],
      "text/latex": [
       "\\begin{enumerate*}\n",
       "\\item 'United Arab Emirates'\n",
       "\\item 'United Kingdom'\n",
       "\\item 'United States'\n",
       "\\end{enumerate*}\n"
      ],
      "text/markdown": [
       "1. 'United Arab Emirates'\n",
       "2. 'United Kingdom'\n",
       "3. 'United States'\n",
       "\n",
       "\n"
      ],
      "text/plain": [
       "[1] \"United Arab Emirates\" \"United Kingdom\"       \"United States\"       "
      ]
     },
     "metadata": {},
     "output_type": "display_data"
    }
   ],
   "source": [
    "# Use a regular expression `United.+` to find matches\n",
    "matches <- grep( pattern = 'United.+',country_col, value = TRUE)\n",
    "# Print the matched country names\n",
    "matches"
   ]
  },
  {
   "cell_type": "markdown",
   "metadata": {},
   "source": [
    "## TASK 8: Pick two countries you are interested, and then review their testing data\n",
    "\n",
    "The goal of task 8 is to compare the COVID-19 test data between two countires, you will need to select two rows from the dataframe, and select `country`, `confirmed`, `confirmed-population-ratio` columns\n"
   ]
  },
  {
   "cell_type": "code",
   "execution_count": 23,
   "metadata": {
    "vscode": {
     "languageId": "r"
    }
   },
   "outputs": [
    {
     "name": "stdout",
     "output_type": "stream",
     "text": [
      "   country confirmed confirmed.population.ratio\n",
      "50 Estonia    613954                       46.2\n",
      "          country confirmed confirmed.population.ratio\n",
      "166 United States  90749469                       27.4\n"
     ]
    }
   ],
   "source": [
    "# Select a subset (should be only one row) of data frame based on a selected country name and columns\n",
    "country1 <- covid_data_frame_csv[50,c('country','confirmed','confirmed.population.ratio')]\n",
    "\n",
    "# Select a subset (should be only one row) of data frame based on a selected country name and columns\n",
    "country2 <- covid_data_frame_csv[166,c('country','confirmed','confirmed.population.ratio')]\n",
    "\n",
    "print(country1)\n",
    "print(country2)\n"
   ]
  },
  {
   "cell_type": "code",
   "execution_count": 24,
   "metadata": {
    "vscode": {
     "languageId": "r"
    }
   },
   "outputs": [
    {
     "data": {
      "text/html": [
       "'numeric'"
      ],
      "text/latex": [
       "'numeric'"
      ],
      "text/markdown": [
       "'numeric'"
      ],
      "text/plain": [
       "[1] \"numeric\""
      ]
     },
     "metadata": {},
     "output_type": "display_data"
    }
   ],
   "source": [
    "class(country1$confirmed.population.ratio)"
   ]
  },
  {
   "cell_type": "code",
   "execution_count": 25,
   "metadata": {
    "vscode": {
     "languageId": "r"
    }
   },
   "outputs": [
    {
     "data": {
      "text/html": [
       "'Estonia'"
      ],
      "text/latex": [
       "'Estonia'"
      ],
      "text/markdown": [
       "'Estonia'"
      ],
      "text/plain": [
       "[1] \"Estonia\""
      ]
     },
     "metadata": {},
     "output_type": "display_data"
    }
   ],
   "source": [
    "country1$country"
   ]
  },
  {
   "cell_type": "markdown",
   "metadata": {},
   "source": [
    "## TASK 9: Compare which one of the selected countries has a larger ratio of confirmed cases to population\n",
    "\n",
    "The goal of task 9 is to find out which country you have selected before has larger ratio of confirmed cases to population, which may indicate that country has higher COVID-19 infection risk\n"
   ]
  },
  {
   "cell_type": "code",
   "execution_count": 26,
   "metadata": {
    "vscode": {
     "languageId": "r"
    }
   },
   "outputs": [
    {
     "name": "stdout",
     "output_type": "stream",
     "text": [
      "[1] \"Estonia\"\n"
     ]
    }
   ],
   "source": [
    "# Use if-else statement\n",
    "if (country1$confirmed.population.ratio > country2$confirmed.population.ratio) {\n",
    "   print(country1$country)\n",
    "} else {\n",
    "   print(country2$country)\n",
    "}\n"
   ]
  },
  {
   "cell_type": "markdown",
   "metadata": {},
   "source": [
    "## TASK 10: Find countries with confirmed to population ratio rate less than a threshold\n",
    "\n",
    "The goal of task 10 is to find out which countries have the confirmed to population ratio less than 1%, it may indicate the risk of those countries are relatively low\n"
   ]
  },
  {
   "cell_type": "code",
   "execution_count": 27,
   "metadata": {
    "vscode": {
     "languageId": "r"
    }
   },
   "outputs": [
    {
     "data": {
      "text/html": [
       "<table class=\"dataframe\">\n",
       "<caption>A data.frame: 5 × 7</caption>\n",
       "<thead>\n",
       "\t<tr><th></th><th scope=col>country</th><th scope=col>date</th><th scope=col>tested</th><th scope=col>confirmed</th><th scope=col>confirmed.tested.ratio</th><th scope=col>tested.population.ratio</th><th scope=col>confirmed.population.ratio</th></tr>\n",
       "\t<tr><th></th><th scope=col>&lt;chr&gt;</th><th scope=col>&lt;chr&gt;</th><th scope=col>&lt;dbl&gt;</th><th scope=col>&lt;int&gt;</th><th scope=col>&lt;dbl&gt;</th><th scope=col>&lt;dbl&gt;</th><th scope=col>&lt;dbl&gt;</th></tr>\n",
       "</thead>\n",
       "<tbody>\n",
       "\t<tr><th scope=row>28</th><td>Burundi    </td><td>5 Jan 2021 </td><td>    90019</td><td>  884</td><td> 0.980</td><td> 0.7600</td><td>0.00740</td></tr>\n",
       "\t<tr><th scope=row>34</th><td>China[c]   </td><td>31 Jul 2020</td><td>160000000</td><td>87655</td><td> 0.055</td><td>11.1000</td><td>0.00610</td></tr>\n",
       "\t<tr><th scope=row>89</th><td>Laos       </td><td>1 Mar 2021 </td><td>   114030</td><td>   45</td><td> 0.039</td><td> 1.6000</td><td>0.00063</td></tr>\n",
       "\t<tr><th scope=row>119</th><td>North Korea</td><td>25 Nov 2020</td><td>    16914</td><td>    0</td><td> 0.000</td><td> 0.0660</td><td>0.00000</td></tr>\n",
       "\t<tr><th scope=row>156</th><td>Tanzania   </td><td>18 Nov 2020</td><td>     3880</td><td>  509</td><td>13.100</td><td> 0.0065</td><td>0.00085</td></tr>\n",
       "</tbody>\n",
       "</table>\n"
      ],
      "text/latex": [
       "A data.frame: 5 × 7\n",
       "\\begin{tabular}{r|lllllll}\n",
       "  & country & date & tested & confirmed & confirmed.tested.ratio & tested.population.ratio & confirmed.population.ratio\\\\\n",
       "  & <chr> & <chr> & <dbl> & <int> & <dbl> & <dbl> & <dbl>\\\\\n",
       "\\hline\n",
       "\t28 & Burundi     & 5 Jan 2021  &     90019 &   884 &  0.980 &  0.7600 & 0.00740\\\\\n",
       "\t34 & China{[}c{]}    & 31 Jul 2020 & 160000000 & 87655 &  0.055 & 11.1000 & 0.00610\\\\\n",
       "\t89 & Laos        & 1 Mar 2021  &    114030 &    45 &  0.039 &  1.6000 & 0.00063\\\\\n",
       "\t119 & North Korea & 25 Nov 2020 &     16914 &     0 &  0.000 &  0.0660 & 0.00000\\\\\n",
       "\t156 & Tanzania    & 18 Nov 2020 &      3880 &   509 & 13.100 &  0.0065 & 0.00085\\\\\n",
       "\\end{tabular}\n"
      ],
      "text/markdown": [
       "\n",
       "A data.frame: 5 × 7\n",
       "\n",
       "| <!--/--> | country &lt;chr&gt; | date &lt;chr&gt; | tested &lt;dbl&gt; | confirmed &lt;int&gt; | confirmed.tested.ratio &lt;dbl&gt; | tested.population.ratio &lt;dbl&gt; | confirmed.population.ratio &lt;dbl&gt; |\n",
       "|---|---|---|---|---|---|---|---|\n",
       "| 28 | Burundi     | 5 Jan 2021  |     90019 |   884 |  0.980 |  0.7600 | 0.00740 |\n",
       "| 34 | China[c]    | 31 Jul 2020 | 160000000 | 87655 |  0.055 | 11.1000 | 0.00610 |\n",
       "| 89 | Laos        | 1 Mar 2021  |    114030 |    45 |  0.039 |  1.6000 | 0.00063 |\n",
       "| 119 | North Korea | 25 Nov 2020 |     16914 |     0 |  0.000 |  0.0660 | 0.00000 |\n",
       "| 156 | Tanzania    | 18 Nov 2020 |      3880 |   509 | 13.100 |  0.0065 | 0.00085 |\n",
       "\n"
      ],
      "text/plain": [
       "    country     date        tested    confirmed confirmed.tested.ratio\n",
       "28  Burundi     5 Jan 2021      90019   884      0.980                \n",
       "34  China[c]    31 Jul 2020 160000000 87655      0.055                \n",
       "89  Laos        1 Mar 2021     114030    45      0.039                \n",
       "119 North Korea 25 Nov 2020     16914     0      0.000                \n",
       "156 Tanzania    18 Nov 2020      3880   509     13.100                \n",
       "    tested.population.ratio confirmed.population.ratio\n",
       "28   0.7600                 0.00740                   \n",
       "34  11.1000                 0.00610                   \n",
       "89   1.6000                 0.00063                   \n",
       "119  0.0660                 0.00000                   \n",
       "156  0.0065                 0.00085                   "
      ]
     },
     "metadata": {},
     "output_type": "display_data"
    }
   ],
   "source": [
    "# Get a subset of any countries with `confirmed.population.ratio` less than the threshold\n",
    "covid_data_frame_csv[covid_data_frame_csv$confirmed.population.ratio < 0.01, ]"
   ]
  },
  {
   "cell_type": "code",
   "execution_count": null,
   "metadata": {
    "vscode": {
     "languageId": "r"
    }
   },
   "outputs": [],
   "source": []
  }
 ],
 "metadata": {
  "kernelspec": {
   "display_name": "R",
   "language": "R",
   "name": "ir"
  },
  "language_info": {
   "codemirror_mode": "r",
   "file_extension": ".r",
   "mimetype": "text/x-r-source",
   "name": "R",
   "pygments_lexer": "r",
   "version": "4.3.2"
  }
 },
 "nbformat": 4,
 "nbformat_minor": 4
}
